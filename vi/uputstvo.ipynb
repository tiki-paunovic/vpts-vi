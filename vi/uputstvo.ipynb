### Drugi opcija za pokretanje Jupytera
Najednostavniji način da otvorite sveske unutar Jupytera je da odete na sledeći link https://mybinder.org/v2/gh/tiki-paunovic/test/e331e99503fadf79cb9aaded3f16b94bc6fc8fdc. Ovaj servis (Binder) vam neće trajno sačuvati ono što radite, ali vam daje mogućnost da brzo bacite pogled kako sveske izgledaju otvorene u Jupyteru.
