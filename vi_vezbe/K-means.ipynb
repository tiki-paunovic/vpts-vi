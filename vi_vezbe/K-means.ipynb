{
 "cells": [
  {
   "cell_type": "markdown",
   "metadata": {},
   "source": [
    "# Uvod u K-means klasterizaciju u Python-u\n",
    "\n",
    "K-means klasterizacija je popularan algoritam u oblasti mašinskog učenja koji se koristi za grupisanje podataka u određeni broj klastera. Klasteri predstavljaju grupe podataka sa sličnim karakteristikama ili ponašanjem. Ovaj algoritam pripada grupi nenadgledanog učenja jer ne zahteva označene podatke, već sam određuje strukturu klastera na osnovu sličnosti između podataka."
   ]
  },
  {
   "cell_type": "markdown",
   "metadata": {},
   "source": [
    "### Kako radi K-means klasterizacija?\n",
    "K-means algoritam funkcioniše na sledeći način:\n",
    "\n",
    "- Inicijalizacija centroida: Algoritam počinje sa inicijalizacijom \"centroida\" - tačaka koje predstavljaju sredinu klastera.\n",
    "\n",
    "- Dodeljivanje tačaka klasterima: Svaka tačka se dodeljuje klasteru koji ima najbliži centroid. To se radi na osnovu Euklidskog rastojanja.\n",
    "\n",
    "- Ažuriranje centroida: Centroidi se ponovo izračunavaju kao srednje vrednosti tačaka u svakom klasteru.\n",
    "\n",
    "- Ponavljanje: Koraci 2 i 3 se ponavljaju dok se centroidi ne stabilizuju ili dok ne bude ispunjen predefinisan broj iteracija."
   ]
  },
  {
   "cell_type": "markdown",
   "metadata": {},
   "source": [
    "### Implementacija K-means klasterizacije u Python-u\n",
    "Za implementaciju K-means klasterizacije u Python-u, koristićemo biblioteku scikit-learn (sklearn) koja pruža jednostavne funkcionalnosti za rad sa mašinskim učenjem. Ovaj kod demonstrira primenu K-means klasterizacije na datim podacima i vizualizaciju rezultata pomoću tačkastog grafika."
   ]
  },
  {
   "cell_type": "markdown",
   "metadata": {},
   "source": [
    "#### Uvoz biblioteka   \n",
    "Koriste se matplotlib.pyplot za crtanje grafova i KMeans iz sklearn.cluster za primenu K-means algoritma."
   ]
  },
  {
   "cell_type": "code",
   "execution_count": 1,
   "metadata": {},
   "outputs": [],
   "source": [
    "import matplotlib.pyplot as plt\n",
    "from sklearn.cluster import KMeans"
   ]
  },
  {
   "cell_type": "markdown",
   "metadata": {},
   "source": [
    "#### Definisanje podataka"
   ]
  },
  {
   "cell_type": "markdown",
   "metadata": {},
   "source": [
    "Funkcija zip uzima dva niza (x i y) i spaja ih po parovima.\n",
    "Svaki par čini jednu tačku u dvodimenzionalnom prostoru (x, y).\n",
    "Rezultat se smešta u listu koord_tacaka, gde svaki element liste predstavlja jednu tačku.\n",
    "Ovaj postupak omogućava jednostavno manipulisanje tačkama u analizi podataka. U kontekstu primene K-means algoritma, ove tačke se često koriste kao ulazni podaci za klasterizaciju."
   ]
  },
  {
   "cell_type": "code",
   "execution_count": 2,
   "metadata": {},
   "outputs": [],
   "source": [
    "x = [4, 5, 10, 4, 3, 11, 14 , 6, 10, 12]\n",
    "y = [21, 19, 24, 17, 16, 25, 24, 22, 21, 21]\n",
    "\n",
    "koord_tacaka = list(zip(x, y))"
   ]
  },
  {
   "cell_type": "markdown",
   "metadata": {},
   "source": [
    "#### Primena K-means klasterizacije"
   ]
  },
  {
   "cell_type": "code",
   "execution_count": 3,
   "metadata": {},
   "outputs": [
    {
     "data": {
      "text/plain": [
       "KMeans(n_clusters=2)"
      ]
     },
     "execution_count": 3,
     "metadata": {},
     "output_type": "execute_result"
    }
   ],
   "source": [
    "kmeans = KMeans(n_clusters=2) #Kreiran je objekat modela kmeans koristeći klasu KMeans iz sklearn.cluster\n",
    "kmeans.fit(koord_tacaka) #K-means model se trenira na podacima koji su prethodno pripremljeni u listi koord_tacaka"
   ]
  },
  {
   "cell_type": "markdown",
   "metadata": {},
   "source": [
    "Napomena: broj klastera (n_clusters) treba prilagoditi prema svojim podacima i ciljevima analize."
   ]
  },
  {
   "cell_type": "markdown",
   "metadata": {},
   "source": [
    "#### Vizualizacija rezultata\n",
    "Prikaz rezultata klasterizacije na tačkastom grafiku. Svaki klaster se predstavlja različitom bojom, koja se određuje vrednostima kmeans.labels_. Tačke na grafiku pripadaju odgovarajućem klasteru."
   ]
  },
  {
   "cell_type": "code",
   "execution_count": 4,
   "metadata": {},
   "outputs": [
    {
     "data": {
      "image/png": "[encoded data removed]",
      "text/plain": [
       "<Figure size 432x288 with 1 Axes>"
      ]
     },
     "metadata": {
      "needs_background": "light"
     },
     "output_type": "display_data"
    }
   ],
   "source": [
    "plt.scatter(x, y, c=kmeans.labels_)\n",
    "plt.show()"
   ]
  },
  {
   "cell_type": "markdown",
   "metadata": {},
   "source": [
    "## Kako odabrati optimalan broj klastera?\n",
    "U primeru ćemo primeniti Elbow metodu kako bi odabrali optimalan broj klastera koristeći K-means algoritam."
   ]
  },
  {
   "cell_type": "markdown",
   "metadata": {},
   "source": [
    "Importovanje biblioteka i podataka"
   ]
  },
  {
   "cell_type": "code",
   "execution_count": 5,
   "metadata": {},
   "outputs": [],
   "source": [
    "from sklearn.cluster import KMeans\n",
    "koord_tacaka = list(zip(x, y))\n"
   ]
  },
  {
   "cell_type": "markdown",
   "metadata": {},
   "source": [
    "Petlja za iteraciju kroz različite vrednosti za broj klastera"
   ]
  },
  {
   "cell_type": "code",
   "execution_count": 6,
   "metadata": {},
   "outputs": [],
   "source": [
    "inertias = [] #Inicijalizacija prazne liste inertias za čuvanje vrednosti inercije\n",
    "for i in range(1, 11):  \n",
    "    #Kreiranje instance KMeans modela sa odgovarajućim brojem klastera i treniranje modela na podacima\n",
    "    kmeans = KMeans(n_clusters=i) \n",
    "    kmeans.fit(koord_tacaka)\n",
    "    \n",
    "    #Dodavanje vrednosti inercije modela u listu inertias\n",
    "    inertias.append(kmeans.inertia_)\n"
   ]
  },
  {
   "cell_type": "markdown",
   "metadata": {},
   "source": [
    "Vizualizacija rezultata"
   ]
  },
  {
   "cell_type": "code",
   "execution_count": 7,
   "metadata": {},
   "outputs": [
    {
     "data": {
      "image/png": "[encoded data removed]",
      "text/plain": [
       "<Figure size 432x288 with 1 Axes>"
      ]
     },
     "metadata": {
      "needs_background": "light"
     },
     "output_type": "display_data"
    }
   ],
   "source": [
    "plt.plot(range(1, 11), inertias, marker='o')\n",
    "plt.title('Metoda elbow za odabir broja klastera')\n",
    "plt.xlabel('Broj klastera')\n",
    "plt.ylabel('Inercija (Varijacija unutar klastera)')\n",
    "plt.show()"
   ]
  },
  {
   "cell_type": "markdown",
   "metadata": {},
   "source": [
    "## Par primera primena K-means klasterizacije u praksi"
   ]
  },
  {
   "cell_type": "markdown",
   "metadata": {},
   "source": [
    "###### Segmentacija tržišta: \n",
    "K-means se često koristi u marketingu za segmentaciju tržišta, identifikujući sličnosti među potrošačima i pomažući kompanijama da bolje prilagode svoje strategije.\n",
    "\n",
    "###### Detekcija anomalija:\n",
    "\n",
    "K-means se primenjuje za detekciju anomalija u podacima, identifikujući neočekivane ili nepravilne vrednosti.\n",
    "###### Rutiranje vozila:\n",
    "\n",
    "U logistici, K-means se koristi za grupisanje lokacija kako bi se efikasno rutirala vozila i optimizovala putanja.\n",
    "###### Istraživanje socijalnih mreža:\n",
    "\n",
    "Na društvenim mrežama, K-means se koristi za analizu ponašanja korisnika, grupisanje sličnih profila ili identifikaciju zajedničkih interesovanja.\n",
    "###### Analiza teksta:\n",
    "\n",
    "U obradi prirodnog jezika, K-means se primenjuje za grupisanje sličnih dokumenata, olakšavajući organizaciju i analizu teksta."
   ]
  }
 ],
 "metadata": {
  "kernelspec": {
   "display_name": "Python 3",
   "language": "python",
   "name": "python3"
  },
  "language_info": {
   "codemirror_mode": {
    "name": "ipython",
    "version": 3
   },
   "file_extension": ".py",
   "mimetype": "text/x-python",
   "name": "python",
   "nbconvert_exporter": "python",
   "pygments_lexer": "ipython3",
   "version": "3.8.3"
  }
 },
 "nbformat": 4,
 "nbformat_minor": 4
}
