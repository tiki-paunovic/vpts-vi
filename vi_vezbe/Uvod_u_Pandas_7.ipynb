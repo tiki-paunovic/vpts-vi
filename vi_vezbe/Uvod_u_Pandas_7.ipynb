{
 "cells": [
  {
   "cell_type": "markdown",
   "metadata": {},
   "source": [
    "# Uvod u Python Pandas\n",
    "## Sedmi deo\n",
    "\n",
    "## Rad sa nedostajućim vrednostima i čišćenje podataka\n",
    "\n"
   ]
  },
  {
   "cell_type": "markdown",
   "metadata": {},
   "source": [
    "### Rad sa nedostajućim vrednostima\n",
    "U radu sa podacima se često susrećemo sa nedostajućim vrednostima. Ponekad korisnici zaborave da unesu sve podatke ili se podaci izgube prilikom uvoženja iz baze podataka, dok je ponekad u pitanju programska ili neka druga nenamerna greška. \n",
    "\n",
    "Pre čišćenja skupa podataka bilo bi dobro da pregledamo podatke da imamo neku opštu sliku. U našem slučaju to znači da ćemo otvoriti csv tabelu i pregledati je da utvrdimo kog su tipa nedostajuće ili nedefinisane vrednosti.\n",
    "\n",
    "Pogledajmo prvo da li ima nedostajućih vrednosti. Koristićemo metodu `isnull()` u kombinaciji sa metodom `sum()`."
   ]
  },
  {
   "cell_type": "code",
   "execution_count": 1,
   "metadata": {},
   "outputs": [
    {
     "data": {
      "text/html": [
       "<div>\n",
       "<style scoped>\n",
       "    .dataframe tbody tr th:only-of-type {\n",
       "        vertical-align: middle;\n",
       "    }\n",
       "\n",
       "    .dataframe tbody tr th {\n",
       "        vertical-align: top;\n",
       "    }\n",
       "\n",
       "    .dataframe thead th {\n",
       "        text-align: right;\n",
       "    }\n",
       "</style>\n",
       "<table border=\"1\" class=\"dataframe\">\n",
       "  <thead>\n",
       "    <tr style=\"text-align: right;\">\n",
       "      <th></th>\n",
       "      <th>Duration</th>\n",
       "      <th>Pulse</th>\n",
       "      <th>Maxpulse</th>\n",
       "      <th>Calories</th>\n",
       "    </tr>\n",
       "  </thead>\n",
       "  <tbody>\n",
       "    <tr>\n",
       "      <th>0</th>\n",
       "      <td>60</td>\n",
       "      <td>110.0</td>\n",
       "      <td>130</td>\n",
       "      <td>409.1</td>\n",
       "    </tr>\n",
       "    <tr>\n",
       "      <th>1</th>\n",
       "      <td>60</td>\n",
       "      <td>NaN</td>\n",
       "      <td>145</td>\n",
       "      <td>479.0</td>\n",
       "    </tr>\n",
       "    <tr>\n",
       "      <th>2</th>\n",
       "      <td>60</td>\n",
       "      <td>103.0</td>\n",
       "      <td>135</td>\n",
       "      <td>340.0</td>\n",
       "    </tr>\n",
       "  </tbody>\n",
       "</table>\n",
       "</div>"
      ],
      "text/plain": [
       "   Duration  Pulse  Maxpulse  Calories\n",
       "0        60  110.0       130     409.1\n",
       "1        60    NaN       145     479.0\n",
       "2        60  103.0       135     340.0"
      ]
     },
     "execution_count": 1,
     "metadata": {},
     "output_type": "execute_result"
    }
   ],
   "source": [
    "import pandas as pd\n",
    "df = pd.read_csv('../datasets/data.csv')\n",
    "df.head(3)"
   ]
  },
  {
   "cell_type": "code",
   "execution_count": 2,
   "metadata": {},
   "outputs": [
    {
     "data": {
      "text/plain": [
       "(169, 4)"
      ]
     },
     "execution_count": 2,
     "metadata": {},
     "output_type": "execute_result"
    }
   ],
   "source": [
    "df.shape"
   ]
  },
  {
   "cell_type": "code",
   "execution_count": 3,
   "metadata": {},
   "outputs": [
    {
     "data": {
      "text/html": [
       "<div>\n",
       "<style scoped>\n",
       "    .dataframe tbody tr th:only-of-type {\n",
       "        vertical-align: middle;\n",
       "    }\n",
       "\n",
       "    .dataframe tbody tr th {\n",
       "        vertical-align: top;\n",
       "    }\n",
       "\n",
       "    .dataframe thead th {\n",
       "        text-align: right;\n",
       "    }\n",
       "</style>\n",
       "<table border=\"1\" class=\"dataframe\">\n",
       "  <thead>\n",
       "    <tr style=\"text-align: right;\">\n",
       "      <th></th>\n",
       "      <th>Duration</th>\n",
       "      <th>Pulse</th>\n",
       "      <th>Maxpulse</th>\n",
       "      <th>Calories</th>\n",
       "    </tr>\n",
       "  </thead>\n",
       "  <tbody>\n",
       "    <tr>\n",
       "      <th>0</th>\n",
       "      <td>False</td>\n",
       "      <td>False</td>\n",
       "      <td>False</td>\n",
       "      <td>False</td>\n",
       "    </tr>\n",
       "    <tr>\n",
       "      <th>1</th>\n",
       "      <td>False</td>\n",
       "      <td>True</td>\n",
       "      <td>False</td>\n",
       "      <td>False</td>\n",
       "    </tr>\n",
       "    <tr>\n",
       "      <th>2</th>\n",
       "      <td>False</td>\n",
       "      <td>False</td>\n",
       "      <td>False</td>\n",
       "      <td>False</td>\n",
       "    </tr>\n",
       "  </tbody>\n",
       "</table>\n",
       "</div>"
      ],
      "text/plain": [
       "   Duration  Pulse  Maxpulse  Calories\n",
       "0     False  False     False     False\n",
       "1     False   True     False     False\n",
       "2     False  False     False     False"
      ]
     },
     "execution_count": 3,
     "metadata": {},
     "output_type": "execute_result"
    }
   ],
   "source": [
    "df.isnull().head(3)"
   ]
  },
  {
   "cell_type": "markdown",
   "metadata": {},
   "source": [
    "Da bi utvrdili broj nedostajućih vrednosti u kolonama koristićemo metodu za sumiranje."
   ]
  },
  {
   "cell_type": "code",
   "execution_count": 4,
   "metadata": {},
   "outputs": [
    {
     "data": {
      "text/plain": [
       "Duration    0\n",
       "Pulse       2\n",
       "Maxpulse    0\n",
       "Calories    5\n",
       "dtype: int64"
      ]
     },
     "execution_count": 4,
     "metadata": {},
     "output_type": "execute_result"
    }
   ],
   "source": [
    "df.isnull().sum()"
   ]
  },
  {
   "cell_type": "markdown",
   "metadata": {},
   "source": [
    "Vidimo da kolona Pulse ima dve, a kolona Calories ima pet nedostajućih vrednosti."
   ]
  },
  {
   "cell_type": "markdown",
   "metadata": {},
   "source": [
    "Uklanjanje je preporučljivo u slučaju kada imamo mali broj nedostajućih podataka. U ostalim slučajevima vršimo zamenu nedostajućih vrednosti. Uklonimo sada redove koji sadrže nedostajuće vrednosti.\n"
   ]
  },
  {
   "cell_type": "code",
   "execution_count": 5,
   "metadata": {},
   "outputs": [
    {
     "data": {
      "text/html": [
       "<div>\n",
       "<style scoped>\n",
       "    .dataframe tbody tr th:only-of-type {\n",
       "        vertical-align: middle;\n",
       "    }\n",
       "\n",
       "    .dataframe tbody tr th {\n",
       "        vertical-align: top;\n",
       "    }\n",
       "\n",
       "    .dataframe thead th {\n",
       "        text-align: right;\n",
       "    }\n",
       "</style>\n",
       "<table border=\"1\" class=\"dataframe\">\n",
       "  <thead>\n",
       "    <tr style=\"text-align: right;\">\n",
       "      <th></th>\n",
       "      <th>Duration</th>\n",
       "      <th>Pulse</th>\n",
       "      <th>Maxpulse</th>\n",
       "      <th>Calories</th>\n",
       "    </tr>\n",
       "  </thead>\n",
       "  <tbody>\n",
       "    <tr>\n",
       "      <th>0</th>\n",
       "      <td>60</td>\n",
       "      <td>110.0</td>\n",
       "      <td>130</td>\n",
       "      <td>409.1</td>\n",
       "    </tr>\n",
       "    <tr>\n",
       "      <th>2</th>\n",
       "      <td>60</td>\n",
       "      <td>103.0</td>\n",
       "      <td>135</td>\n",
       "      <td>340.0</td>\n",
       "    </tr>\n",
       "    <tr>\n",
       "      <th>3</th>\n",
       "      <td>45</td>\n",
       "      <td>109.0</td>\n",
       "      <td>175</td>\n",
       "      <td>282.4</td>\n",
       "    </tr>\n",
       "  </tbody>\n",
       "</table>\n",
       "</div>"
      ],
      "text/plain": [
       "   Duration  Pulse  Maxpulse  Calories\n",
       "0        60  110.0       130     409.1\n",
       "2        60  103.0       135     340.0\n",
       "3        45  109.0       175     282.4"
      ]
     },
     "execution_count": 5,
     "metadata": {},
     "output_type": "execute_result"
    }
   ],
   "source": [
    "# Uklanjanje redova koji sadrže prazne ćelije\n",
    "new_df = df.dropna() # vraća novi DataFrame i neće promeniti original\n",
    "\n",
    "new_df.head(3)"
   ]
  },
  {
   "cell_type": "code",
   "execution_count": 6,
   "metadata": {},
   "outputs": [
    {
     "data": {
      "text/plain": [
       "(162, 4)"
      ]
     },
     "execution_count": 6,
     "metadata": {},
     "output_type": "execute_result"
    }
   ],
   "source": [
    "new_df.shape"
   ]
  },
  {
   "cell_type": "markdown",
   "metadata": {},
   "source": [
    "### Zamena praznih ćelija"
   ]
  },
  {
   "cell_type": "code",
   "execution_count": 7,
   "metadata": {},
   "outputs": [],
   "source": [
    "df.fillna(300, inplace = True) # na sva prazna mesta u tabeli (početnom DataFreme-u) biće umetnuta vrednost 300"
   ]
  },
  {
   "cell_type": "code",
   "execution_count": 8,
   "metadata": {},
   "outputs": [
    {
     "data": {
      "text/plain": [
       "Duration    0\n",
       "Pulse       0\n",
       "Maxpulse    0\n",
       "Calories    0\n",
       "dtype: int64"
      ]
     },
     "execution_count": 8,
     "metadata": {},
     "output_type": "execute_result"
    }
   ],
   "source": [
    "df.isnull().sum()"
   ]
  },
  {
   "cell_type": "markdown",
   "metadata": {},
   "source": [
    "Primetimo da sada nema praznih ćelija u tabeli"
   ]
  },
  {
   "cell_type": "code",
   "execution_count": 9,
   "metadata": {},
   "outputs": [
    {
     "data": {
      "text/html": [
       "<div>\n",
       "<style scoped>\n",
       "    .dataframe tbody tr th:only-of-type {\n",
       "        vertical-align: middle;\n",
       "    }\n",
       "\n",
       "    .dataframe tbody tr th {\n",
       "        vertical-align: top;\n",
       "    }\n",
       "\n",
       "    .dataframe thead th {\n",
       "        text-align: right;\n",
       "    }\n",
       "</style>\n",
       "<table border=\"1\" class=\"dataframe\">\n",
       "  <thead>\n",
       "    <tr style=\"text-align: right;\">\n",
       "      <th></th>\n",
       "      <th>Duration</th>\n",
       "      <th>Pulse</th>\n",
       "      <th>Maxpulse</th>\n",
       "      <th>Calories</th>\n",
       "    </tr>\n",
       "  </thead>\n",
       "  <tbody>\n",
       "    <tr>\n",
       "      <th>0</th>\n",
       "      <td>60</td>\n",
       "      <td>110.0</td>\n",
       "      <td>130</td>\n",
       "      <td>409.1</td>\n",
       "    </tr>\n",
       "    <tr>\n",
       "      <th>1</th>\n",
       "      <td>60</td>\n",
       "      <td>NaN</td>\n",
       "      <td>145</td>\n",
       "      <td>479.0</td>\n",
       "    </tr>\n",
       "    <tr>\n",
       "      <th>2</th>\n",
       "      <td>60</td>\n",
       "      <td>103.0</td>\n",
       "      <td>135</td>\n",
       "      <td>340.0</td>\n",
       "    </tr>\n",
       "    <tr>\n",
       "      <th>3</th>\n",
       "      <td>45</td>\n",
       "      <td>109.0</td>\n",
       "      <td>175</td>\n",
       "      <td>282.4</td>\n",
       "    </tr>\n",
       "    <tr>\n",
       "      <th>4</th>\n",
       "      <td>45</td>\n",
       "      <td>117.0</td>\n",
       "      <td>148</td>\n",
       "      <td>406.0</td>\n",
       "    </tr>\n",
       "    <tr>\n",
       "      <th>...</th>\n",
       "      <td>...</td>\n",
       "      <td>...</td>\n",
       "      <td>...</td>\n",
       "      <td>...</td>\n",
       "    </tr>\n",
       "    <tr>\n",
       "      <th>164</th>\n",
       "      <td>60</td>\n",
       "      <td>105.0</td>\n",
       "      <td>140</td>\n",
       "      <td>290.8</td>\n",
       "    </tr>\n",
       "    <tr>\n",
       "      <th>165</th>\n",
       "      <td>60</td>\n",
       "      <td>110.0</td>\n",
       "      <td>145</td>\n",
       "      <td>300.0</td>\n",
       "    </tr>\n",
       "    <tr>\n",
       "      <th>166</th>\n",
       "      <td>60</td>\n",
       "      <td>115.0</td>\n",
       "      <td>145</td>\n",
       "      <td>310.2</td>\n",
       "    </tr>\n",
       "    <tr>\n",
       "      <th>167</th>\n",
       "      <td>75</td>\n",
       "      <td>120.0</td>\n",
       "      <td>150</td>\n",
       "      <td>320.4</td>\n",
       "    </tr>\n",
       "    <tr>\n",
       "      <th>168</th>\n",
       "      <td>75</td>\n",
       "      <td>125.0</td>\n",
       "      <td>150</td>\n",
       "      <td>330.4</td>\n",
       "    </tr>\n",
       "  </tbody>\n",
       "</table>\n",
       "<p>169 rows × 4 columns</p>\n",
       "</div>"
      ],
      "text/plain": [
       "     Duration  Pulse  Maxpulse  Calories\n",
       "0          60  110.0       130     409.1\n",
       "1          60    NaN       145     479.0\n",
       "2          60  103.0       135     340.0\n",
       "3          45  109.0       175     282.4\n",
       "4          45  117.0       148     406.0\n",
       "..        ...    ...       ...       ...\n",
       "164        60  105.0       140     290.8\n",
       "165        60  110.0       145     300.0\n",
       "166        60  115.0       145     310.2\n",
       "167        75  120.0       150     320.4\n",
       "168        75  125.0       150     330.4\n",
       "\n",
       "[169 rows x 4 columns]"
      ]
     },
     "execution_count": 9,
     "metadata": {},
     "output_type": "execute_result"
    }
   ],
   "source": [
    "# Zamena samo za određene kolone\n",
    "import pandas as pd\n",
    "\n",
    "df = pd.read_csv('../datasets/data.csv')\n",
    "df\n"
   ]
  },
  {
   "cell_type": "code",
   "execution_count": 10,
   "metadata": {},
   "outputs": [
    {
     "name": "stdout",
     "output_type": "stream",
     "text": [
      "     Duration  Pulse  Maxpulse  Calories\n",
      "0          60  110.0       130     409.1\n",
      "1          60    NaN       145     479.0\n",
      "2          60  103.0       135     340.0\n",
      "3          45  109.0       175     282.4\n",
      "4          45  117.0       148     406.0\n",
      "5          60  102.0       127     300.0\n",
      "6          60  110.0       136     374.0\n",
      "7          45    NaN       134     253.3\n",
      "8          30  109.0       133     195.1\n",
      "9          60   98.0       124     269.0\n",
      "10         60  103.0       147     329.3\n",
      "11         60  100.0       120     250.7\n",
      "12         60  106.0       128     345.3\n",
      "13         60  104.0       132     379.3\n",
      "14         60   98.0       123     275.0\n",
      "15         60   98.0       120     215.2\n",
      "16         60  100.0       120     300.0\n",
      "17         45   90.0       112     300.0\n",
      "18         60  103.0       123     323.0\n",
      "19         45   97.0       125     243.0\n",
      "20         60  108.0       131     364.2\n",
      "21         45  100.0       119     282.0\n",
      "22         60  130.0       101     300.0\n",
      "23         45  105.0       132     246.0\n",
      "24         60  102.0       126     334.5\n",
      "25         60  100.0       120     250.0\n",
      "26         60   92.0       118     241.0\n",
      "27         60  103.0       132     300.0\n",
      "28         60  100.0       132     280.0\n",
      "29         60  102.0       129     380.3\n",
      "30         60   92.0       115     243.0\n",
      "31         45   90.0       112     180.1\n",
      "32         60  101.0       124     299.0\n",
      "33         60   93.0       113     223.0\n",
      "34         60  107.0       136     361.0\n",
      "35         60  114.0       140     415.0\n",
      "36         60  102.0       127     300.0\n",
      "37         60  100.0       120     300.0\n",
      "38         60  100.0       120     300.0\n",
      "39         45  104.0       129     266.0\n",
      "40         45   90.0       112     180.1\n",
      "41         60   98.0       126     286.0\n",
      "42         60  100.0       122     329.4\n",
      "43         60  111.0       138     400.0\n",
      "44         60  111.0       131     397.0\n",
      "45         60   99.0       119     273.0\n",
      "46         60  109.0       153     387.6\n",
      "47         45  111.0       136     300.0\n",
      "48         45  108.0       129     298.0\n",
      "49         60  111.0       139     397.6\n",
      "50         60  107.0       136     380.2\n",
      "51         80  123.0       146     643.1\n",
      "52         60  106.0       130     263.0\n",
      "53         60  118.0       151     486.0\n",
      "54         30  136.0       175     238.0\n",
      "55         60  121.0       146     450.7\n",
      "56         60  118.0       121     413.0\n",
      "57         45  115.0       144     305.0\n",
      "58         20  153.0       172     226.4\n",
      "59         45  123.0       152     321.0\n",
      "60        210  108.0       160    1376.0\n",
      "61        160  110.0       137    1034.4\n",
      "62        160  109.0       135     853.0\n",
      "63         45  118.0       141     341.0\n",
      "64         20  110.0       130     131.4\n",
      "65        180   90.0       130     800.4\n",
      "66        150  105.0       135     873.4\n",
      "67        150  107.0       130     816.0\n",
      "68         20  106.0       136     110.4\n",
      "69        300  108.0       143    1500.2\n",
      "70        150   97.0       129    1115.0\n",
      "71         60  109.0       153     387.6\n",
      "72         90  100.0       127     700.0\n",
      "73        150   97.0       127     953.2\n",
      "74         45  114.0       146     304.0\n",
      "75         90   98.0       125     563.2\n",
      "76         45  105.0       134     251.0\n",
      "77         45  110.0       141     300.0\n",
      "78        120  100.0       130     500.4\n",
      "79        270  100.0       131    1729.0\n",
      "80         30  159.0       182     319.2\n",
      "81         45  149.0       169     344.0\n",
      "82         30  103.0       139     151.1\n",
      "83        120  100.0       130     500.0\n",
      "84         45  100.0       120     225.3\n",
      "85         30  151.0       170     300.0\n",
      "86         45  102.0       136     234.0\n",
      "87        120  100.0       157    1000.1\n",
      "88         45  129.0       103     242.0\n",
      "89         20   83.0       107      50.3\n",
      "90        180  101.0       127     600.1\n",
      "91         45  107.0       137     300.0\n",
      "92         30   90.0       107     105.3\n",
      "93         15   80.0       100      50.5\n",
      "94         20  150.0       171     127.4\n",
      "95         20  151.0       168     229.4\n",
      "96         30   95.0       128     128.2\n",
      "97         25  152.0       168     244.2\n",
      "98         30  109.0       131     188.2\n",
      "99         90   93.0       124     604.1\n",
      "100        20   95.0       112      77.7\n",
      "101        90   90.0       110     500.0\n",
      "102        90   90.0       100     500.0\n",
      "103        90   90.0       100     500.4\n",
      "104        30   92.0       108      92.7\n",
      "105        30   93.0       128     124.0\n",
      "106       180   90.0       120     800.3\n",
      "107        30   90.0       120      86.2\n",
      "108        90   90.0       120     500.3\n",
      "109       210  137.0       184    1860.4\n",
      "110        60  102.0       124     325.2\n",
      "111        45  107.0       124     275.0\n",
      "112        15  124.0       139     124.2\n",
      "113        45  100.0       120     225.3\n",
      "114        60  108.0       131     367.6\n",
      "115        60  108.0       151     351.7\n",
      "116        60  116.0       141     443.0\n",
      "117        60   97.0       122     277.4\n",
      "118        60  105.0       125     300.0\n",
      "119        60  103.0       124     332.7\n",
      "120        30  112.0       137     193.9\n",
      "121        45  100.0       120     100.7\n",
      "122        60  119.0       169     336.7\n",
      "123        60  107.0       127     344.9\n",
      "124        60  111.0       151     368.5\n",
      "125        60   98.0       122     271.0\n",
      "126        60   97.0       124     275.3\n",
      "127        60  109.0       127     382.0\n",
      "128        90   99.0       125     466.4\n",
      "129        60  114.0       151     384.0\n",
      "130        60  104.0       134     342.5\n",
      "131        60  107.0       138     357.5\n",
      "132        60  103.0       133     335.0\n",
      "133        60  106.0       132     327.5\n",
      "134        60  103.0       136     339.0\n",
      "135        20  136.0       156     189.0\n",
      "136        45  117.0       143     317.7\n",
      "137        45  115.0       137     318.0\n",
      "138        45  113.0       138     308.0\n",
      "139        20  141.0       162     222.4\n",
      "140        60  108.0       135     390.0\n",
      "141        60   97.0       127     300.0\n",
      "142        45  100.0       120     250.4\n",
      "143        45  122.0       149     335.4\n",
      "144        60  136.0       170     470.2\n",
      "145        45  106.0       126     270.8\n",
      "146        60  107.0       136     400.0\n",
      "147        60  112.0       146     361.9\n",
      "148        30  103.0       127     185.0\n",
      "149        60  110.0       150     409.4\n",
      "150        60  106.0       134     343.0\n",
      "151        60  109.0       129     353.2\n",
      "152        60  109.0       138     374.0\n",
      "153        30  150.0       167     275.8\n",
      "154        60  105.0       128     328.0\n",
      "155        60  111.0       151     368.5\n",
      "156        60   97.0       131     270.4\n",
      "157        60  100.0       120     270.4\n",
      "158        60  114.0       150     382.8\n",
      "159        30   80.0       120     240.9\n",
      "160        30   85.0       120     250.4\n",
      "161        45   90.0       130     260.4\n",
      "162        45   95.0       130     270.0\n",
      "163        45  100.0       140     280.9\n",
      "164        60  105.0       140     290.8\n",
      "165        60  110.0       145     300.0\n",
      "166        60  115.0       145     310.2\n",
      "167        75  120.0       150     320.4\n",
      "168        75  125.0       150     330.4\n"
     ]
    }
   ],
   "source": [
    "df[\"Calories\"].fillna(300, inplace = True) # na sva prazna mesta u koloni Calories biće umetnuta vrednost 300\n",
    "print(df.to_string())"
   ]
  },
  {
   "cell_type": "code",
   "execution_count": 11,
   "metadata": {},
   "outputs": [
    {
     "data": {
      "text/plain": [
       "Duration    0\n",
       "Pulse       2\n",
       "Maxpulse    0\n",
       "Calories    0\n",
       "dtype: int64"
      ]
     },
     "execution_count": 11,
     "metadata": {},
     "output_type": "execute_result"
    }
   ],
   "source": [
    "df.isnull().sum()"
   ]
  },
  {
   "cell_type": "markdown",
   "metadata": {},
   "source": [
    "Nedostajuće vrednosti moguće je zameniti vrednostima aritmetičke sredine, medijane ili moda.\n",
    "U te svrhe prvo se vrši vizualizacija podataka iz kolona sa nedostajućim vrednostima pomoću box plot dijagrama i histograma, kako bismo se lakše odlučili koju od pomenutih vrednosti da umetnemo."
   ]
  },
  {
   "cell_type": "code",
   "execution_count": 12,
   "metadata": {},
   "outputs": [
    {
     "data": {
      "text/plain": [
       "107.42514970059881"
      ]
     },
     "execution_count": 12,
     "metadata": {},
     "output_type": "execute_result"
    }
   ],
   "source": [
    "# primer zamene sa prosečnom vrednosti kolone Pulse\n",
    "x = df[\"Pulse\"].mean()\n",
    "x"
   ]
  },
  {
   "cell_type": "code",
   "execution_count": 13,
   "metadata": {},
   "outputs": [
    {
     "data": {
      "text/html": [
       "<div>\n",
       "<style scoped>\n",
       "    .dataframe tbody tr th:only-of-type {\n",
       "        vertical-align: middle;\n",
       "    }\n",
       "\n",
       "    .dataframe tbody tr th {\n",
       "        vertical-align: top;\n",
       "    }\n",
       "\n",
       "    .dataframe thead th {\n",
       "        text-align: right;\n",
       "    }\n",
       "</style>\n",
       "<table border=\"1\" class=\"dataframe\">\n",
       "  <thead>\n",
       "    <tr style=\"text-align: right;\">\n",
       "      <th></th>\n",
       "      <th>Duration</th>\n",
       "      <th>Pulse</th>\n",
       "      <th>Maxpulse</th>\n",
       "      <th>Calories</th>\n",
       "    </tr>\n",
       "  </thead>\n",
       "  <tbody>\n",
       "    <tr>\n",
       "      <th>0</th>\n",
       "      <td>60</td>\n",
       "      <td>110.00000</td>\n",
       "      <td>130</td>\n",
       "      <td>409.1</td>\n",
       "    </tr>\n",
       "    <tr>\n",
       "      <th>1</th>\n",
       "      <td>60</td>\n",
       "      <td>107.42515</td>\n",
       "      <td>145</td>\n",
       "      <td>479.0</td>\n",
       "    </tr>\n",
       "    <tr>\n",
       "      <th>2</th>\n",
       "      <td>60</td>\n",
       "      <td>103.00000</td>\n",
       "      <td>135</td>\n",
       "      <td>340.0</td>\n",
       "    </tr>\n",
       "    <tr>\n",
       "      <th>3</th>\n",
       "      <td>45</td>\n",
       "      <td>109.00000</td>\n",
       "      <td>175</td>\n",
       "      <td>282.4</td>\n",
       "    </tr>\n",
       "    <tr>\n",
       "      <th>4</th>\n",
       "      <td>45</td>\n",
       "      <td>117.00000</td>\n",
       "      <td>148</td>\n",
       "      <td>406.0</td>\n",
       "    </tr>\n",
       "    <tr>\n",
       "      <th>...</th>\n",
       "      <td>...</td>\n",
       "      <td>...</td>\n",
       "      <td>...</td>\n",
       "      <td>...</td>\n",
       "    </tr>\n",
       "    <tr>\n",
       "      <th>164</th>\n",
       "      <td>60</td>\n",
       "      <td>105.00000</td>\n",
       "      <td>140</td>\n",
       "      <td>290.8</td>\n",
       "    </tr>\n",
       "    <tr>\n",
       "      <th>165</th>\n",
       "      <td>60</td>\n",
       "      <td>110.00000</td>\n",
       "      <td>145</td>\n",
       "      <td>300.0</td>\n",
       "    </tr>\n",
       "    <tr>\n",
       "      <th>166</th>\n",
       "      <td>60</td>\n",
       "      <td>115.00000</td>\n",
       "      <td>145</td>\n",
       "      <td>310.2</td>\n",
       "    </tr>\n",
       "    <tr>\n",
       "      <th>167</th>\n",
       "      <td>75</td>\n",
       "      <td>120.00000</td>\n",
       "      <td>150</td>\n",
       "      <td>320.4</td>\n",
       "    </tr>\n",
       "    <tr>\n",
       "      <th>168</th>\n",
       "      <td>75</td>\n",
       "      <td>125.00000</td>\n",
       "      <td>150</td>\n",
       "      <td>330.4</td>\n",
       "    </tr>\n",
       "  </tbody>\n",
       "</table>\n",
       "<p>169 rows × 4 columns</p>\n",
       "</div>"
      ],
      "text/plain": [
       "     Duration      Pulse  Maxpulse  Calories\n",
       "0          60  110.00000       130     409.1\n",
       "1          60  107.42515       145     479.0\n",
       "2          60  103.00000       135     340.0\n",
       "3          45  109.00000       175     282.4\n",
       "4          45  117.00000       148     406.0\n",
       "..        ...        ...       ...       ...\n",
       "164        60  105.00000       140     290.8\n",
       "165        60  110.00000       145     300.0\n",
       "166        60  115.00000       145     310.2\n",
       "167        75  120.00000       150     320.4\n",
       "168        75  125.00000       150     330.4\n",
       "\n",
       "[169 rows x 4 columns]"
      ]
     },
     "execution_count": 13,
     "metadata": {},
     "output_type": "execute_result"
    }
   ],
   "source": [
    "df[\"Pulse\"].fillna(x, inplace = True)\n",
    "df"
   ]
  }
 ],
 "metadata": {
  "kernelspec": {
   "display_name": "Python 3",
   "language": "python",
   "name": "python3"
  },
  "language_info": {
   "codemirror_mode": {
    "name": "ipython",
    "version": 3
   },
   "file_extension": ".py",
   "mimetype": "text/x-python",
   "name": "python",
   "nbconvert_exporter": "python",
   "pygments_lexer": "ipython3",
   "version": "3.8.3"
  }
 },
 "nbformat": 4,
 "nbformat_minor": 4
}
