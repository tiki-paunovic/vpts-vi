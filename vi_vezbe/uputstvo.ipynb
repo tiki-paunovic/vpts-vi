{
 "cells": [
  {
   "cell_type": "markdown",
   "metadata": {},
   "source": [
    "### Pokretanje Jupyter radnih sveski pomoću servisa Binder\n",
    "Najjednostavniji način da otvorite sveske unutar Jupytera je da odete na sledeći link \n",
    "\n",
    "https://mybinder.org/v2/gh/tiki-paunovic/test/e331e99503fadf79cb9aaded3f16b94bc6fc8fdc. "
   ]
  },
  {
   "cell_type": "markdown",
   "metadata": {},
   "source": [
    "### Video lekcije\n",
    "\n",
    "#### Instalacija Anaconde\n",
    "https://www.youtube.com/watch?v=UKgd4LvILGg&t=537s\n",
    "\n",
    "#### Jupyter Notebook - uvod\n",
    "https://www.youtube.com/watch?v=8dONC6im9-c\n",
    "\n"
   ]
  }
 ],
 "metadata": {
  "kernelspec": {
   "display_name": "Python 3",
   "language": "python",
   "name": "python3"
  },
  "language_info": {
   "codemirror_mode": {
    "name": "ipython",
    "version": 3
   },
   "file_extension": ".py",
   "mimetype": "text/x-python",
   "name": "python",
   "nbconvert_exporter": "python",
   "pygments_lexer": "ipython3",
   "version": "3.8.3"
  }
 },
 "nbformat": 4,
 "nbformat_minor": 5
}
