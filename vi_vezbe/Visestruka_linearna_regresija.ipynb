{
 "cells": [
  {
   "cell_type": "markdown",
   "metadata": {},
   "source": [
    "# Višestruka linearna regresija "
   ]
  },
  {
   "cell_type": "markdown",
   "metadata": {},
   "source": [
    "Višestruka regresija u kontekstu mašinskog učenja predstavlja snažan algoritam koji se koristi za modeliranje složenih veza između zavisne promenljive i više nezavisnih karakteristika ili osobina. Ovaj metod spada u nadgledano učenje, gde model uči iz podataka kako bi predvideo vrednosti ciljne promenljive na osnovu unapred poznatih karakteristika.\n",
    "\n",
    "Suština višestruke regresije u mašinskom učenju ogleda se u tome da omogućava modeliranje realnosti koja često obuhvata više faktora uticaja na ciljni rezultat. Na primer, u analizi cena nekretnina, višestruka regresija može uzeti u obzir ne samo kvadraturu stana već i lokaciju, broj soba, prisustvo parkinga i druge karakteristike kako bi bolje predvidela vrednost nekretnine.\n",
    "\n",
    "Ključna prednost višestruke regresije u mašinskom učenju leži u sposobnosti modela da automatski identifikuje i kvantifikuje uticaj svake nezavisne promenljive na ciljni rezultat. Ovo omogućava analitičarima i inženjerima da razumeju kompleksne odnose među promenljivama, a samim tim i da donose informisane odluke zasnovane na analizi podataka."
   ]
  },
  {
   "cell_type": "markdown",
   "metadata": {},
   "source": [
    "## Primer - predviđanje emisije CO2 automobila"
   ]
  },
  {
   "cell_type": "markdown",
   "metadata": {},
   "source": [
    "Uz pomoć linearne regresije možemo predvideti emisiju CO2 automobila na osnovu veličine motora, ali sa višestrukom regresijom možemo ubaciti više varijabli, poput težine automobila, da bi predviđanje bilo preciznije.\n"
   ]
  },
  {
   "cell_type": "markdown",
   "metadata": {},
   "source": [
    "### Uvoz Biblioteka\n",
    "Uvoz biblioteka pandas za rad sa podacima i linear_model iz scikit-learn za implementaciju linearnog modela regresije."
   ]
  },
  {
   "cell_type": "code",
   "execution_count": 1,
   "metadata": {},
   "outputs": [],
   "source": [
    "import pandas\n",
    "from sklearn import linear_model"
   ]
  },
  {
   "cell_type": "markdown",
   "metadata": {},
   "source": [
    "### Čitanje Podataka iz CSV Fajla\n",
    "Koristimo odgovarajući skup podataka koji sadrži informacije o veličini motora, težini automobila i emisiji CO2."
   ]
  },
  {
   "cell_type": "code",
   "execution_count": 2,
   "metadata": {
    "scrolled": true
   },
   "outputs": [
    {
     "data": {
      "text/html": [
       "<div>\n",
       "<style scoped>\n",
       "    .dataframe tbody tr th:only-of-type {\n",
       "        vertical-align: middle;\n",
       "    }\n",
       "\n",
       "    .dataframe tbody tr th {\n",
       "        vertical-align: top;\n",
       "    }\n",
       "\n",
       "    .dataframe thead th {\n",
       "        text-align: right;\n",
       "    }\n",
       "</style>\n",
       "<table border=\"1\" class=\"dataframe\">\n",
       "  <thead>\n",
       "    <tr style=\"text-align: right;\">\n",
       "      <th></th>\n",
       "      <th>Car</th>\n",
       "      <th>Model</th>\n",
       "      <th>Volume</th>\n",
       "      <th>Weight</th>\n",
       "      <th>CO2</th>\n",
       "    </tr>\n",
       "  </thead>\n",
       "  <tbody>\n",
       "    <tr>\n",
       "      <th>0</th>\n",
       "      <td>Toyoty</td>\n",
       "      <td>Aygo</td>\n",
       "      <td>1000</td>\n",
       "      <td>790</td>\n",
       "      <td>99</td>\n",
       "    </tr>\n",
       "    <tr>\n",
       "      <th>1</th>\n",
       "      <td>Mitsubishi</td>\n",
       "      <td>Space Star</td>\n",
       "      <td>1200</td>\n",
       "      <td>1160</td>\n",
       "      <td>95</td>\n",
       "    </tr>\n",
       "    <tr>\n",
       "      <th>2</th>\n",
       "      <td>Skoda</td>\n",
       "      <td>Citigo</td>\n",
       "      <td>1000</td>\n",
       "      <td>929</td>\n",
       "      <td>95</td>\n",
       "    </tr>\n",
       "    <tr>\n",
       "      <th>3</th>\n",
       "      <td>Fiat</td>\n",
       "      <td>500</td>\n",
       "      <td>900</td>\n",
       "      <td>865</td>\n",
       "      <td>90</td>\n",
       "    </tr>\n",
       "    <tr>\n",
       "      <th>4</th>\n",
       "      <td>Mini</td>\n",
       "      <td>Cooper</td>\n",
       "      <td>1500</td>\n",
       "      <td>1140</td>\n",
       "      <td>105</td>\n",
       "    </tr>\n",
       "  </tbody>\n",
       "</table>\n",
       "</div>"
      ],
      "text/plain": [
       "          Car       Model  Volume  Weight  CO2\n",
       "0      Toyoty        Aygo    1000     790   99\n",
       "1  Mitsubishi  Space Star    1200    1160   95\n",
       "2       Skoda      Citigo    1000     929   95\n",
       "3        Fiat         500     900     865   90\n",
       "4        Mini      Cooper    1500    1140  105"
      ]
     },
     "execution_count": 2,
     "metadata": {},
     "output_type": "execute_result"
    }
   ],
   "source": [
    "import pandas as pd\n",
    "\n",
    "df = pd.read_csv(\"../datasets/data_CO2.csv\")\n",
    "df.head()"
   ]
  },
  {
   "cell_type": "markdown",
   "metadata": {},
   "source": [
    "### Definisanje Ulaznih (X) i Izlaznih (y) Promenljivih\n",
    "Odabir kolona \"Weight\" (težina) i \"Volume\" (zapremina) kao ulaznih promenljivih X i \"CO2\" kao izlazne promenljive y.\n"
   ]
  },
  {
   "cell_type": "code",
   "execution_count": 3,
   "metadata": {},
   "outputs": [],
   "source": [
    "X = df[['Weight', 'Volume']]\n",
    "y = df['CO2']"
   ]
  },
  {
   "cell_type": "markdown",
   "metadata": {},
   "source": [
    "### Inicijalizacija i prilagođavanje modela linearne regresije\n",
    "Inicijalizacija objekta linearne regresije (regr) i prilagođavanje modela na osnovu ulaznih i izlaznih podataka."
   ]
  },
  {
   "cell_type": "code",
   "execution_count": 4,
   "metadata": {},
   "outputs": [
    {
     "data": {
      "text/plain": [
       "LinearRegression()"
      ]
     },
     "execution_count": 4,
     "metadata": {},
     "output_type": "execute_result"
    }
   ],
   "source": [
    "regr = linear_model.LinearRegression()\n",
    "regr.fit(X, y)"
   ]
  },
  {
   "cell_type": "markdown",
   "metadata": {},
   "source": [
    "### Predviđanje i ispisi predviđenih vrednosti CO2\n",
    "Korišćenje treniranog modela da se predviđa emisija CO2 za novi automobil sa težinom od 2300 kg i zapreminom od 1300 cm³."
   ]
  },
  {
   "cell_type": "code",
   "execution_count": 5,
   "metadata": {},
   "outputs": [
    {
     "name": "stdout",
     "output_type": "stream",
     "text": [
      "[107.2087328]\n"
     ]
    }
   ],
   "source": [
    "predikcija_za_CO2 = regr.predict([[2300, 1300]])\n",
    "print(predikcija_za_CO2)"
   ]
  },
  {
   "cell_type": "markdown",
   "metadata": {},
   "source": [
    "### Koeficijent"
   ]
  },
  {
   "cell_type": "markdown",
   "metadata": {},
   "source": [
    "Koeficijent je matematički faktor koji opisuje odnos s nepoznatom promenljivom. Na primer, ako je \n",
    "k nepoznata promenljiva, izraz 2k znači da je k udvostručen. Ovde, broj 2 predstavlja koeficijent.\n",
    "\n",
    "U kontekstu analize emisije CO2 u automobilima, tražimo vrednosti koeficijenata za težinu i zapreminu motora u odnosu na emisiju CO2. Ovi koeficijenti nam govore kako će se emisija CO2 promeniti kada povećamo ili smanjimo te nezavisne promenljive."
   ]
  },
  {
   "cell_type": "code",
   "execution_count": 6,
   "metadata": {},
   "outputs": [
    {
     "name": "stdout",
     "output_type": "stream",
     "text": [
      "[0.00755095 0.00780526]\n"
     ]
    }
   ],
   "source": [
    "print(regr.coef_)\n"
   ]
  },
  {
   "cell_type": "markdown",
   "metadata": {},
   "source": [
    "Niz rezultata predstavlja vrednosti koeficijenata za težinu i zapreminu:\n",
    "\n",
    "Težina: 0,00755095\n",
    "Zapremina: 0,00780526\n",
    "\n",
    "Ove vrednosti nam govore da ako se težina poveća za 1 kg, emisija CO2 će se povećati za 0,00755095 g.\n",
    "\n",
    "Ako se, s druge strane, zapremina motora (veličina) poveća za 1 cm³, emisija CO2 će se povećati za 0,00780526 g.\n",
    "\n",
    "Već smo predvideli da će emisija CO2 za automobil sa motorom zapremine 1300 cm³ i težinom 2300 kg biti otprilike 107 g.\n",
    "\n",
    "Proverite šta se dešava ako povećamo težinu za 1000 kg?"
   ]
  },
  {
   "cell_type": "code",
   "execution_count": 7,
   "metadata": {},
   "outputs": [
    {
     "name": "stdout",
     "output_type": "stream",
     "text": [
      "[114.75968007]\n"
     ]
    }
   ],
   "source": [
    "import pandas as pd\n",
    "from sklearn import linear_model\n",
    "\n",
    "df = pd.read_csv(\"../datasets/data_CO2.csv\")\n",
    "\n",
    "X = df[['Weight', 'Volume']]\n",
    "y = df['CO2']\n",
    "\n",
    "regr = linear_model.LinearRegression()\n",
    "regr.fit(X, y)\n",
    "\n",
    "predikcija_za_CO2 = regr.predict([[3300, 1300]])\n",
    "\n",
    "print(predikcija_za_CO2)\n"
   ]
  },
  {
   "cell_type": "markdown",
   "metadata": {},
   "source": [
    "Predvideli smo da će automobil sa motorom od 1,3 litara i težinom od 3300 kg osloboditi oko 115 grama CO2 za svaki pređeni kilometar.\n",
    "\n",
    "Što pokazuje da je koeficijent 0,00755095 tačan:\n",
    "\n",
    "107,2087328 + (1000 * 0,00755095) = 114,75968"
   ]
  },
  {
   "cell_type": "markdown",
   "metadata": {},
   "source": [
    "### Tačnost modela"
   ]
  },
  {
   "cell_type": "code",
   "execution_count": 8,
   "metadata": {},
   "outputs": [
    {
     "name": "stdout",
     "output_type": "stream",
     "text": [
      "Srednja kvadratna greška (MSE): 58.07928583657765\n",
      "Koeficijent determinacije (R-squared): 0.3294110962401282\n"
     ]
    }
   ],
   "source": [
    "import pandas as pd\n",
    "#train_test_split se koristi za podelu podataka na trening i test skup\n",
    "from sklearn.model_selection import train_test_split  \n",
    "from sklearn.linear_model import LinearRegression\n",
    "from sklearn.metrics import mean_squared_error, r2_score\n",
    "\n",
    "# Učitavanje podataka\n",
    "df = pd.read_csv(\"../datasets/data_CO2.csv\")\n",
    "\n",
    "# Definisanje ulaznih (X) i izlazne (y) promenljivih\n",
    "X = df[['Weight', 'Volume']]\n",
    "y = df['CO2']\n",
    "\n",
    "# Podela podataka na trening i test skup\n",
    "X_train, X_test, y_train, y_test = train_test_split(X, y, test_size=0.2, random_state=42)\n",
    "\n",
    "# Inicijalizacija i treniranje modela\n",
    "# Inicijalizuje se linearni regresijski model (regr) i trenira na trening skupu (X_train, y_train)\n",
    "regr = LinearRegression()\n",
    "regr.fit(X_train, y_train)\n",
    "\n",
    "# Predviđanje na test skupu\n",
    "# Model se koristi za predviđanje izlaznih vrednosti na test skupu (X_test), \n",
    "# čime se dobija niz predviđenih vrednosti (y_pred)\n",
    "\n",
    "y_pred = regr.predict(X_test)\n",
    "\n",
    "# Evaluacija modela\n",
    "\"\"\"Koristi se funkcija srednje kvadratne greške (mean_squared_error)\n",
    "i koeficijenta determinacije (r2_score) kako bi se izmerila razlika između stvarnih vrednosti (y_test) i\n",
    "predviđenih vrednosti (y_pred).\"\"\"\n",
    "\n",
    "mse = mean_squared_error(y_test, y_pred)\n",
    "r2 = r2_score(y_test, y_pred)\n",
    "\n",
    "# Ispis rezultata evaluacije, uključujući srednju kvadratnu grešku (MSE) i koeficijent determinacije (R-squared)\n",
    "print(f\"Srednja kvadratna greška (MSE): {mse}\")\n",
    "print(f\"Koeficijent determinacije (R-squared): {r2}\")\n"
   ]
  }
 ],
 "metadata": {
  "kernelspec": {
   "display_name": "Python 3",
   "language": "python",
   "name": "python3"
  },
  "language_info": {
   "codemirror_mode": {
    "name": "ipython",
    "version": 3
   },
   "file_extension": ".py",
   "mimetype": "text/x-python",
   "name": "python",
   "nbconvert_exporter": "python",
   "pygments_lexer": "ipython3",
   "version": "3.8.3"
  }
 },
 "nbformat": 4,
 "nbformat_minor": 4
}
