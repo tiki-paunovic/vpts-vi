{
 "cells": [
  {
   "cell_type": "markdown",
   "metadata": {},
   "source": [
    "# Osnove programiranja - Python"
   ]
  },
  {
   "cell_type": "markdown",
   "metadata": {},
   "source": [
    "## Komentari"
   ]
  },
  {
   "cell_type": "code",
   "execution_count": 1,
   "metadata": {
    "scrolled": true
   },
   "outputs": [
    {
     "name": "stdout",
     "output_type": "stream",
     "text": [
      "Hello, World\n"
     ]
    }
   ],
   "source": [
    "# Ovo je komentar u jednoj liniji\n",
    "\"\"\"\n",
    "Ovo je\n",
    "komentar u \n",
    "više \n",
    "linija\n",
    "\"\"\"\n",
    "#print (\"Hello, World\")\n",
    "print (\"Hello, World\") # Ovo je komentar u jednoj liniji"
   ]
  },
  {
   "cell_type": "markdown",
   "metadata": {},
   "source": [
    "## Ispis podataka"
   ]
  },
  {
   "cell_type": "code",
   "execution_count": 2,
   "metadata": {},
   "outputs": [
    {
     "name": "stdout",
     "output_type": "stream",
     "text": [
      "10\n"
     ]
    }
   ],
   "source": [
    "print(10)"
   ]
  },
  {
   "cell_type": "code",
   "execution_count": 3,
   "metadata": {},
   "outputs": [
    {
     "name": "stdout",
     "output_type": "stream",
     "text": [
      "String\n"
     ]
    }
   ],
   "source": [
    "print(\"String\")"
   ]
  },
  {
   "cell_type": "code",
   "execution_count": 4,
   "metadata": {},
   "outputs": [
    {
     "name": "stdout",
     "output_type": "stream",
     "text": [
      "5\n"
     ]
    }
   ],
   "source": [
    "a = 5\n",
    "print(a)"
   ]
  },
  {
   "cell_type": "markdown",
   "metadata": {},
   "source": [
    "## Promenljive\n",
    "### Primeri dodele vrednosti"
   ]
  },
  {
   "cell_type": "code",
   "execution_count": 5,
   "metadata": {},
   "outputs": [
    {
     "name": "stdout",
     "output_type": "stream",
     "text": [
      "<class 'int'>\n",
      "<class 'float'>\n",
      "<class 'float'>\n",
      "<class 'str'>\n",
      "<class 'str'>\n",
      "Zdravo Jovana\n"
     ]
    }
   ],
   "source": [
    "x=5\n",
    "y = 1.0\n",
    "pi = 3.14\n",
    "x = 2*x\n",
    "poruka= \"Programiranje je lepo\" \n",
    "ime = \"Jovana\"\n",
    "pozdrav = \"Zdravo \" + ime\n",
    "\n",
    "print (type(x))\n",
    "print (type(y))\n",
    "print (type(pi))\n",
    "print (type(poruka))\n",
    "print (type(pozdrav))\n",
    "print (pozdrav)"
   ]
  },
  {
   "cell_type": "markdown",
   "metadata": {},
   "source": [
    "### Primer - višestruka dodela vrednosti"
   ]
  },
  {
   "cell_type": "code",
   "execution_count": 6,
   "metadata": {},
   "outputs": [
    {
     "name": "stdout",
     "output_type": "stream",
     "text": [
      "3 4 jednostavno zar ne!\n"
     ]
    }
   ],
   "source": [
    "a, b, poruka = 3, 4, 'jednostavno zar ne!'\n",
    "print(a, b, poruka)"
   ]
  },
  {
   "cell_type": "markdown",
   "metadata": {},
   "source": [
    "### Primer\n",
    "Razmena vrednosti može se realizovati preko naredbe višestruke dodele vrednosti, što predstavlja optimalno rešenje u stilu jezika Python."
   ]
  },
  {
   "cell_type": "code",
   "execution_count": 7,
   "metadata": {},
   "outputs": [
    {
     "name": "stdout",
     "output_type": "stream",
     "text": [
      "a = 50\n",
      "b = 10\n"
     ]
    }
   ],
   "source": [
    "a = 10\n",
    "b = 50\n",
    "a, b = b, a\n",
    "print(\"a =\", a)\n",
    "print(\"b =\", b)"
   ]
  },
  {
   "cell_type": "markdown",
   "metadata": {},
   "source": [
    "## Aritmetički operatori"
   ]
  },
  {
   "cell_type": "code",
   "execution_count": 8,
   "metadata": {},
   "outputs": [
    {
     "data": {
      "text/plain": [
       "40"
      ]
     },
     "execution_count": 8,
     "metadata": {},
     "output_type": "execute_result"
    }
   ],
   "source": [
    "55-15"
   ]
  },
  {
   "cell_type": "code",
   "execution_count": 9,
   "metadata": {},
   "outputs": [
    {
     "data": {
      "text/plain": [
       "20"
      ]
     },
     "execution_count": 9,
     "metadata": {},
     "output_type": "execute_result"
    }
   ],
   "source": [
    "2*10"
   ]
  },
  {
   "cell_type": "code",
   "execution_count": 10,
   "metadata": {},
   "outputs": [
    {
     "data": {
      "text/plain": [
       "1024"
      ]
     },
     "execution_count": 10,
     "metadata": {},
     "output_type": "execute_result"
    }
   ],
   "source": [
    "2**10"
   ]
  },
  {
   "cell_type": "code",
   "execution_count": 11,
   "metadata": {},
   "outputs": [
    {
     "data": {
      "text/plain": [
       "2.3"
      ]
     },
     "execution_count": 11,
     "metadata": {},
     "output_type": "execute_result"
    }
   ],
   "source": [
    "23/10"
   ]
  },
  {
   "cell_type": "code",
   "execution_count": 12,
   "metadata": {},
   "outputs": [
    {
     "data": {
      "text/plain": [
       "2"
      ]
     },
     "execution_count": 12,
     "metadata": {},
     "output_type": "execute_result"
    }
   ],
   "source": [
    "23//10"
   ]
  },
  {
   "cell_type": "code",
   "execution_count": 13,
   "metadata": {},
   "outputs": [
    {
     "data": {
      "text/plain": [
       "3"
      ]
     },
     "execution_count": 13,
     "metadata": {},
     "output_type": "execute_result"
    }
   ],
   "source": [
    "23%10"
   ]
  },
  {
   "cell_type": "markdown",
   "metadata": {},
   "source": [
    "## Učitavanje podataka sa standardnog ulaza"
   ]
  },
  {
   "cell_type": "code",
   "execution_count": 14,
   "metadata": {},
   "outputs": [
    {
     "name": "stdout",
     "output_type": "stream",
     "text": [
      "Kako se zoveš: Tijana\n",
      "Tijana, dobar dan!\n"
     ]
    }
   ],
   "source": [
    "ime = input(\"Kako se zoveš: \")\n",
    "print(ime, \"dobar dan!\", sep=\", \")"
   ]
  },
  {
   "cell_type": "markdown",
   "metadata": {},
   "source": [
    "### Primer\n",
    "\n",
    "Napisati program koji za unete vrednosti (masu i visinu) izračunava index telesne mase (body mass index, bmi)"
   ]
  },
  {
   "cell_type": "code",
   "execution_count": 15,
   "metadata": {},
   "outputs": [
    {
     "name": "stdout",
     "output_type": "stream",
     "text": [
      "Unesite telesnu masu u kilogramima: 77\n",
      "Unesite visinu u metrima: 1.8\n",
      "Vaš indeks telesne mase je:  23.76543209876543\n"
     ]
    }
   ],
   "source": [
    "# izvršena je konverzija u int i float, jer funkcija input vraća string\n",
    "masa = int(input (\"Unesite telesnu masu u kilogramima: \"))\n",
    "visina = float(input (\"Unesite visinu u metrima: \"))\n",
    "bmi = masa/(visina**2)\n",
    "print (\"Vaš indeks telesne mase je: \", bmi)"
   ]
  },
  {
   "cell_type": "markdown",
   "metadata": {},
   "source": [
    "### Formatiran ispis"
   ]
  },
  {
   "cell_type": "code",
   "execution_count": 16,
   "metadata": {},
   "outputs": [
    {
     "name": "stdout",
     "output_type": "stream",
     "text": [
      "Kvadrat broja 10 je 100.\n"
     ]
    }
   ],
   "source": [
    "n = 10\n",
    "print('Kvadrat broja {} je {}.'.format(n,n**2))"
   ]
  },
  {
   "cell_type": "code",
   "execution_count": 17,
   "metadata": {},
   "outputs": [
    {
     "name": "stdout",
     "output_type": "stream",
     "text": [
      "x = 10, y = 50\n"
     ]
    }
   ],
   "source": [
    "x = 10\n",
    "y = 50\n",
    "print('x = {}, y = {}'.format(x, y))"
   ]
  },
  {
   "cell_type": "markdown",
   "metadata": {},
   "source": [
    "## Obrada izuzetaka"
   ]
  },
  {
   "cell_type": "code",
   "execution_count": 18,
   "metadata": {},
   "outputs": [
    {
     "name": "stdout",
     "output_type": "stream",
     "text": [
      "Unesite vrednost celog broja a: 10.0\n",
      "Neispravna vrednost\n"
     ]
    }
   ],
   "source": [
    "try:\n",
    "    a = int(input(\"Unesite vrednost celog broja a: \"))\n",
    "    print(a)\n",
    "except:\n",
    "    print('Neispravna vrednost')"
   ]
  },
  {
   "cell_type": "markdown",
   "metadata": {},
   "source": [
    "## Grananje If-else"
   ]
  },
  {
   "cell_type": "code",
   "execution_count": 19,
   "metadata": {},
   "outputs": [
    {
     "name": "stdout",
     "output_type": "stream",
     "text": [
      "Unesite vrednost celog broja a: 22\n",
      "Broj je paran.\n"
     ]
    }
   ],
   "source": [
    "# Za uneti broj ispitati da li je paran\n",
    "\n",
    "a = int (input ('Unesite vrednost celog broja a: '))\n",
    "if a % 2 == 0:\n",
    "    print ('Broj je paran.')\n",
    "else:\n",
    "    print ('Broj je neparan')"
   ]
  },
  {
   "cell_type": "code",
   "execution_count": 20,
   "metadata": {},
   "outputs": [
    {
     "name": "stdout",
     "output_type": "stream",
     "text": [
      "Unesite vrednost celog broja a:31\n",
      "Broj a daje ostatak 1 pri deljenju sa brojem 3\n"
     ]
    }
   ],
   "source": [
    "a = int(input('Unesite vrednost celog broja a:'))\n",
    "if a % 3 == 0:\n",
    "    print('Broj a je deljiv brojem 3')\n",
    "elif a % 3 == 1:\n",
    "    print('Broj a daje ostatak 1 pri deljenju sa brojem 3')\n",
    "else:\n",
    "    print('Broj a daje ostatak 2 pri deljenju sa brojem 3')\n"
   ]
  },
  {
   "cell_type": "code",
   "execution_count": 21,
   "metadata": {},
   "outputs": [
    {
     "name": "stdout",
     "output_type": "stream",
     "text": [
      "Unesite vrednost celog broja a: 31.0\n",
      "Neispravna vrednost broja a!\n"
     ]
    }
   ],
   "source": [
    "try:\n",
    "    a = int(input('Unesite vrednost celog broja a: '))\n",
    "    if a % 3 == 0:\n",
    "        print('Broj a je deljiv brojem 3')\n",
    "    elif a % 3 == 1:\n",
    "        print('Broj a daje ostatak 1 pri deljenju sa brojem 3')\n",
    "    else:\n",
    "        print('Broj a daje ostatak 2 pri deljenju sa brojem 3')\n",
    "except:\n",
    "    print('Neispravna vrednost broja a!')"
   ]
  },
  {
   "cell_type": "markdown",
   "metadata": {},
   "source": [
    "## Petlje\n",
    "## Naredba for"
   ]
  },
  {
   "cell_type": "code",
   "execution_count": 22,
   "metadata": {},
   "outputs": [
    {
     "name": "stdout",
     "output_type": "stream",
     "text": [
      "0\n",
      "1\n",
      "2\n",
      "3\n",
      "4\n"
     ]
    }
   ],
   "source": [
    "for i in range(5): \n",
    "    print(i)"
   ]
  },
  {
   "cell_type": "code",
   "execution_count": 23,
   "metadata": {},
   "outputs": [
    {
     "name": "stdout",
     "output_type": "stream",
     "text": [
      "Zdravo!\n",
      "Zdravo!\n",
      "Zdravo!\n",
      "Zdravo!\n",
      "Zdravo!\n"
     ]
    }
   ],
   "source": [
    "for i in range(5): \n",
    "    print(\"Zdravo!\")"
   ]
  },
  {
   "cell_type": "code",
   "execution_count": 24,
   "metadata": {},
   "outputs": [
    {
     "name": "stdout",
     "output_type": "stream",
     "text": [
      "1\n",
      "2\n",
      "3\n",
      "4\n",
      "5\n"
     ]
    }
   ],
   "source": [
    "for i in range(1,6): \n",
    "    print(i)"
   ]
  },
  {
   "cell_type": "code",
   "execution_count": 25,
   "metadata": {},
   "outputs": [
    {
     "name": "stdout",
     "output_type": "stream",
     "text": [
      "5\n",
      "10\n",
      "15\n",
      "20\n",
      "25\n",
      "30\n",
      "35\n",
      "40\n",
      "45\n",
      "50\n"
     ]
    }
   ],
   "source": [
    "for i in range(5,51,5): \n",
    "    print(i)"
   ]
  },
  {
   "cell_type": "code",
   "execution_count": 26,
   "metadata": {},
   "outputs": [
    {
     "name": "stdout",
     "output_type": "stream",
     "text": [
      "25\n",
      "20\n",
      "15\n",
      "10\n",
      "5\n"
     ]
    }
   ],
   "source": [
    "for i in range(25,4,-5): \n",
    "    print(i)"
   ]
  },
  {
   "cell_type": "code",
   "execution_count": 27,
   "metadata": {},
   "outputs": [
    {
     "name": "stdout",
     "output_type": "stream",
     "text": [
      "b\n",
      "a\n",
      "n\n",
      "a\n",
      "n\n",
      "a\n"
     ]
    }
   ],
   "source": [
    "for i in \"banana\": \n",
    "    print(i)"
   ]
  },
  {
   "cell_type": "markdown",
   "metadata": {},
   "source": [
    "### Primer\n",
    "Napisati program kojim se za uneti prirodan broj n (n ≥ 1) prvo štampaju svi prirodni brojevi od 1 do n, pa onda svi parni brojevi od 1 do n i na kraju svi neparni brojevi od 1 do n."
   ]
  },
  {
   "cell_type": "code",
   "execution_count": 28,
   "metadata": {},
   "outputs": [
    {
     "name": "stdout",
     "output_type": "stream",
     "text": [
      "Unesi ceo broj n:20\n",
      "1 2 3 4 5 6 7 8 9 10 11 12 13 14 15 16 17 18 19 20 \n",
      "2 4 6 8 10 12 14 16 18 20 \n",
      "1 3 5 7 9 11 13 15 17 19 \n"
     ]
    }
   ],
   "source": [
    "n=int(input(\"Unesi ceo broj n:\"))\n",
    "for i in range(1,n+1):\n",
    "    print(i, end=\" \")\n",
    "print()\n",
    "for i in range(2,n+1,2):\n",
    "    print(i, end=\" \")\n",
    "print()    \n",
    "for i in range(1,n+1,2):\n",
    "    print(i, end=\" \")\n",
    "print()"
   ]
  },
  {
   "cell_type": "code",
   "execution_count": 29,
   "metadata": {},
   "outputs": [
    {
     "name": "stdout",
     "output_type": "stream",
     "text": [
      "0\n",
      "1\n",
      "2\n",
      "3\n",
      "4\n",
      "5\n",
      "6\n"
     ]
    }
   ],
   "source": [
    "# Za prekid izvršenja petlje, bez obzira na ispunjenost uslova koristi se naredba break\n",
    "\n",
    "for i in range(10):\n",
    "    print(i)\n",
    "    if i > 5:\n",
    "        break"
   ]
  },
  {
   "cell_type": "code",
   "execution_count": 30,
   "metadata": {},
   "outputs": [
    {
     "name": "stdout",
     "output_type": "stream",
     "text": [
      "6\n",
      "7\n",
      "8\n",
      "9\n"
     ]
    }
   ],
   "source": [
    "# Naredbom continue se prekida izvršavanje trenutne iteracije i prelazi na sledeću\n",
    "for i in range(10):\n",
    "    if i <= 5:\n",
    "        continue\n",
    "    print(i)\n"
   ]
  },
  {
   "cell_type": "markdown",
   "metadata": {},
   "source": [
    "## Naredba while"
   ]
  },
  {
   "cell_type": "code",
   "execution_count": 31,
   "metadata": {},
   "outputs": [
    {
     "name": "stdout",
     "output_type": "stream",
     "text": [
      "0\n",
      "1\n",
      "2\n",
      "3\n",
      "4\n"
     ]
    }
   ],
   "source": [
    "i = 0\n",
    "while i < 5:\n",
    "    print(i)\n",
    "    i += 1 "
   ]
  },
  {
   "cell_type": "code",
   "execution_count": 32,
   "metadata": {},
   "outputs": [
    {
     "name": "stdout",
     "output_type": "stream",
     "text": [
      "Zdravo!\n",
      "Zdravo!\n",
      "Zdravo!\n",
      "Zdravo!\n",
      "Zdravo!\n"
     ]
    }
   ],
   "source": [
    "br=0\n",
    "while br<5:\n",
    "    print('Zdravo!')\n",
    "    br=br+1"
   ]
  },
  {
   "cell_type": "markdown",
   "metadata": {},
   "source": [
    "### Primer\n",
    "Izračunati zbir unetih brojeva. Brojeve unositi dok se ne unese 0."
   ]
  },
  {
   "cell_type": "code",
   "execution_count": 33,
   "metadata": {},
   "outputs": [
    {
     "name": "stdout",
     "output_type": "stream",
     "text": [
      "Unesi broj: 10\n",
      "Unesi broj: 5\n",
      "Unesi broj: -2\n",
      "Unesi broj: 16\n",
      "Unesi broj: 21\n",
      "Unesi broj: 0\n",
      "Zbir unetih brojeva je  50\n"
     ]
    }
   ],
   "source": [
    "x = int(input(\"Unesi broj: \")) \n",
    "s=0\n",
    "while x != 0:\n",
    "    s = s + x\n",
    "    x = int(input(\"Unesi broj: \"))\n",
    "print(\"Zbir unetih brojeva je \", s)"
   ]
  },
  {
   "cell_type": "markdown",
   "metadata": {},
   "source": [
    "## Funkcije"
   ]
  },
  {
   "cell_type": "code",
   "execution_count": 34,
   "metadata": {},
   "outputs": [
    {
     "name": "stdout",
     "output_type": "stream",
     "text": [
      "60\n"
     ]
    }
   ],
   "source": [
    "def saberi(a, b):\n",
    "    c = a + b\n",
    "    return c\n",
    "\n",
    "print (saberi(10,50))"
   ]
  },
  {
   "cell_type": "code",
   "execution_count": 35,
   "metadata": {},
   "outputs": [
    {
     "name": "stdout",
     "output_type": "stream",
     "text": [
      "-22 -10\n"
     ]
    }
   ],
   "source": [
    "# Funkcija moze vratiti vise vrednosti\n",
    "def minimum_i_maksimum(a, b):\n",
    "    minimum = min(a,b)\n",
    "    maksimum = max(a,b)\n",
    "    return minimum, maksimum\n",
    "\n",
    "a = - 10\n",
    "b = - 22\n",
    "\n",
    "mini, maksi = minimum_i_maksimum(a, b)\n",
    "print(mini, maksi)"
   ]
  },
  {
   "cell_type": "markdown",
   "metadata": {},
   "source": [
    "## Liste"
   ]
  },
  {
   "cell_type": "code",
   "execution_count": 36,
   "metadata": {},
   "outputs": [
    {
     "name": "stdout",
     "output_type": "stream",
     "text": [
      "[1, 3, 5, 7, 9]\n"
     ]
    }
   ],
   "source": [
    "# lista celih brojeva\n",
    "lista = [1, 3, 5, 7, 9] \n",
    "print(lista)"
   ]
  },
  {
   "cell_type": "code",
   "execution_count": 37,
   "metadata": {},
   "outputs": [
    {
     "name": "stdout",
     "output_type": "stream",
     "text": [
      "['pas', 'macka', 'mis', 'majmun', 'slon']\n"
     ]
    }
   ],
   "source": [
    "# lista stringova\n",
    "zivotinje = ['pas','macka','mis','majmun','slon'] \n",
    "print (zivotinje)"
   ]
  },
  {
   "cell_type": "code",
   "execution_count": 38,
   "metadata": {},
   "outputs": [
    {
     "name": "stdout",
     "output_type": "stream",
     "text": [
      "[1, 2, 3, 4, 5, 6, 7, 8, 9, 10, 11, 12, 13, 14]\n"
     ]
    }
   ],
   "source": [
    "lista=list(range(1,15))\n",
    "print (lista)"
   ]
  },
  {
   "cell_type": "code",
   "execution_count": 39,
   "metadata": {},
   "outputs": [
    {
     "name": "stdout",
     "output_type": "stream",
     "text": [
      "Dužina liste je: 5\n"
     ]
    }
   ],
   "source": [
    "samoglasnici = ['a', 'e', 'i', 'o', 'u']\n",
    "n = len(samoglasnici)\n",
    "print('Dužina liste je: {}'.format(n))"
   ]
  },
  {
   "cell_type": "markdown",
   "metadata": {},
   "source": [
    "### Iteracija kroz listu po indeksima"
   ]
  },
  {
   "cell_type": "code",
   "execution_count": 40,
   "metadata": {},
   "outputs": [
    {
     "name": "stdout",
     "output_type": "stream",
     "text": [
      "1\n",
      "2\n",
      "3\n",
      "4\n"
     ]
    }
   ],
   "source": [
    "lista = [1, 2, 3, 4]\n",
    "n = len(lista)\n",
    "\n",
    "for i in range(0, n): # for i in range(len(lista))   [0,n) -> 0..n-1\n",
    "    print(lista[i])"
   ]
  },
  {
   "cell_type": "markdown",
   "metadata": {},
   "source": [
    "### Iteracija kroz listu po elementima (foreach petlja)"
   ]
  },
  {
   "cell_type": "code",
   "execution_count": 41,
   "metadata": {},
   "outputs": [
    {
     "name": "stdout",
     "output_type": "stream",
     "text": [
      "1\n",
      "2\n",
      "3\n",
      "4\n"
     ]
    }
   ],
   "source": [
    "lista = [1, 2, 3, 4]\n",
    "n = len(lista)\n",
    "\n",
    "for element in lista: \n",
    "    print(element)"
   ]
  },
  {
   "cell_type": "markdown",
   "metadata": {},
   "source": [
    "### Sortiranje liste - sort( )"
   ]
  },
  {
   "cell_type": "code",
   "execution_count": 42,
   "metadata": {},
   "outputs": [
    {
     "name": "stdout",
     "output_type": "stream",
     "text": [
      "[1, 2, 3, 4, 5, 6, 9]\n"
     ]
    }
   ],
   "source": [
    "A = [2, 6, 1, 9, 3, 5, 4]\n",
    "A.sort()\n",
    "print (A)"
   ]
  },
  {
   "cell_type": "markdown",
   "metadata": {},
   "source": [
    "### Obrtanje liste - reverse( )"
   ]
  },
  {
   "cell_type": "code",
   "execution_count": 43,
   "metadata": {},
   "outputs": [
    {
     "name": "stdout",
     "output_type": "stream",
     "text": [
      "[9, 6, 5, 4, 3, 2, 1]\n"
     ]
    }
   ],
   "source": [
    "A=[1, 2, 3, 4, 5, 6, 9]\n",
    "A.reverse()\n",
    "print (A)"
   ]
  },
  {
   "cell_type": "markdown",
   "metadata": {},
   "source": [
    "### Elementi liste, indeksiranje, izdvajanje podlisti\n",
    "[polazni_indeks:zavrsni_index(n+1):korak]"
   ]
  },
  {
   "cell_type": "code",
   "execution_count": 44,
   "metadata": {},
   "outputs": [
    {
     "name": "stdout",
     "output_type": "stream",
     "text": [
      "[2, 3]\n"
     ]
    }
   ],
   "source": [
    "lista = [1, 2, 3, 4]\n",
    "print(lista[1:3]) "
   ]
  },
  {
   "cell_type": "code",
   "execution_count": 45,
   "metadata": {},
   "outputs": [
    {
     "name": "stdout",
     "output_type": "stream",
     "text": [
      "[2, 4]\n"
     ]
    }
   ],
   "source": [
    "lista = [1, 2, 3, 4]\n",
    "print(lista[1:4:2]) "
   ]
  },
  {
   "cell_type": "code",
   "execution_count": 46,
   "metadata": {},
   "outputs": [
    {
     "name": "stdout",
     "output_type": "stream",
     "text": [
      "[1, 2, 3]\n"
     ]
    }
   ],
   "source": [
    "lista = [1, 2, 3, 4] #  -4 -3 -2 -1\n",
    "print(lista[-4:-1])  "
   ]
  },
  {
   "cell_type": "code",
   "execution_count": 47,
   "metadata": {},
   "outputs": [
    {
     "name": "stdout",
     "output_type": "stream",
     "text": [
      "Tjuring Bul\n",
      "[2, 'Tjuring', 4, 'Bebidz']\n",
      "['Tjuring', 4, 'Bebidz', 6, 'Bul']\n",
      "['Ejda', 2, 'Tjuring', 4, 'Bebidz']\n"
     ]
    },
    {
     "ename": "IndexError",
     "evalue": "list index out of range",
     "output_type": "error",
     "traceback": [
      "\u001b[0;31m---------------------------------------------------------------------------\u001b[0m",
      "\u001b[0;31mIndexError\u001b[0m                                Traceback (most recent call last)",
      "\u001b[0;32m<ipython-input-47-b1c2148ad877>\u001b[0m in \u001b[0;36m<module>\u001b[0;34m\u001b[0m\n\u001b[1;32m      4\u001b[0m \u001b[0mprint\u001b[0m \u001b[0;34m(\u001b[0m\u001b[0mlista\u001b[0m\u001b[0;34m[\u001b[0m\u001b[0;36m2\u001b[0m\u001b[0;34m:\u001b[0m\u001b[0;34m]\u001b[0m\u001b[0;34m)\u001b[0m\u001b[0;34m\u001b[0m\u001b[0;34m\u001b[0m\u001b[0m\n\u001b[1;32m      5\u001b[0m \u001b[0mprint\u001b[0m \u001b[0;34m(\u001b[0m\u001b[0mlista\u001b[0m\u001b[0;34m[\u001b[0m\u001b[0;34m:\u001b[0m\u001b[0;36m5\u001b[0m\u001b[0;34m]\u001b[0m\u001b[0;34m)\u001b[0m\u001b[0;34m\u001b[0m\u001b[0;34m\u001b[0m\u001b[0m\n\u001b[0;32m----> 6\u001b[0;31m \u001b[0mprint\u001b[0m \u001b[0;34m(\u001b[0m\u001b[0mlista\u001b[0m\u001b[0;34m[\u001b[0m\u001b[0;36m12\u001b[0m\u001b[0;34m]\u001b[0m\u001b[0;34m)\u001b[0m\u001b[0;34m\u001b[0m\u001b[0;34m\u001b[0m\u001b[0m\n\u001b[0m",
      "\u001b[0;31mIndexError\u001b[0m: list index out of range"
     ]
    }
   ],
   "source": [
    "lista= ['Ejda', 2, 'Tjuring', 4,'Bebidz', 6, 'Bul'] \n",
    "print (lista[2], lista[-1])\n",
    "print (lista[1:5])\n",
    "print (lista[2:])\n",
    "print (lista[:5])\n",
    "print (lista[12])"
   ]
  },
  {
   "cell_type": "markdown",
   "metadata": {},
   "source": [
    "### Metode za rad sa listama"
   ]
  },
  {
   "cell_type": "code",
   "execution_count": 48,
   "metadata": {},
   "outputs": [
    {
     "name": "stdout",
     "output_type": "stream",
     "text": [
      "['jabuka', 'kruska', 'banana', 'kivi']\n"
     ]
    }
   ],
   "source": [
    "# Dodavanje elemenata na kraj liste –append \n",
    "\n",
    "lista = [\"jabuka\", \"kruska\", \"banana\"]\n",
    "lista.append(\"kivi\")\n",
    "print (lista)"
   ]
  },
  {
   "cell_type": "code",
   "execution_count": 49,
   "metadata": {},
   "outputs": [
    {
     "name": "stdout",
     "output_type": "stream",
     "text": [
      "['jabuka', 'kivi', 'kruska', 'banana']\n"
     ]
    }
   ],
   "source": [
    "# Dodavanje elemenata na željenu poziciju –insert\n",
    "\n",
    "lista = [\"jabuka\", \"kruska\", \"banana\"]\n",
    "lista.insert(1, \"kivi\")\n",
    "print(lista)\n"
   ]
  },
  {
   "cell_type": "code",
   "execution_count": 50,
   "metadata": {},
   "outputs": [
    {
     "name": "stdout",
     "output_type": "stream",
     "text": [
      "['jabuka', 'banana']\n",
      "[1, 2, 3, 4, 5, 6]\n",
      "[1, 2, 4, 5, 6]\n",
      "[2, 4, 5, 6]\n"
     ]
    }
   ],
   "source": [
    "# Brisanje elementa iz liste –del, pop, remove\n",
    "\n",
    "lista1 = [\"jabuka\", \"kruska\", \"banana\"]\n",
    "lista1.remove(\"kruska\")\n",
    "print(lista1)\n",
    "\n",
    "lista2 = [1, 2, 3, 4, 5, 6, 7]\n",
    "lista2.pop() \n",
    "print(lista2)\n",
    "lista2.pop(2)\n",
    "print(lista2)\n",
    "del lista2[0]\n",
    "print (lista2)\n"
   ]
  },
  {
   "cell_type": "code",
   "execution_count": 51,
   "metadata": {},
   "outputs": [
    {
     "name": "stdout",
     "output_type": "stream",
     "text": [
      "[]\n"
     ]
    }
   ],
   "source": [
    "# clear() – prazni listu\n",
    "lista = [\"jabuka\", \"kruska\", \"banana\"]\n",
    "lista.clear()\n",
    "print(lista)\n"
   ]
  },
  {
   "cell_type": "code",
   "execution_count": 52,
   "metadata": {},
   "outputs": [
    {
     "name": "stdout",
     "output_type": "stream",
     "text": [
      "4\n",
      "2\n"
     ]
    }
   ],
   "source": [
    "# Broj ponavljanja elementa –count\n",
    "L = [2, 3, 4, 1, 7, 2, 3, 1, 1, 0, 9, 1]\n",
    "print (L.count(1))\n",
    "\n",
    "formula1= ['Hamilton', 'Bottas', 'Vettel', 'Hamilton', 'Albon']\n",
    "print (formula1.count('Hamilton'))\n"
   ]
  },
  {
   "cell_type": "code",
   "execution_count": 53,
   "metadata": {},
   "outputs": [
    {
     "name": "stdout",
     "output_type": "stream",
     "text": [
      "['a', 'b', 'c', 1, 2, 3]\n"
     ]
    }
   ],
   "source": [
    "# Spajanje listi\n",
    "\n",
    "lista1 = [\"a\", \"b\" , \"c\"]\n",
    "lista2 = [1, 2, 3]\n",
    "lista3 = lista1 + lista2\n",
    "print(lista3)\n"
   ]
  },
  {
   "cell_type": "code",
   "execution_count": 54,
   "metadata": {},
   "outputs": [
    {
     "name": "stdout",
     "output_type": "stream",
     "text": [
      "[0, 1, 2, 3, 4]\n"
     ]
    }
   ],
   "source": [
    "# Dodavanje elementa na pocetak liste\n",
    "element = 0\n",
    "lista = [1, 2, 3, 4]\n",
    "print ([element] + lista)  "
   ]
  },
  {
   "cell_type": "markdown",
   "metadata": {},
   "source": [
    "## Stringovi"
   ]
  },
  {
   "cell_type": "code",
   "execution_count": 55,
   "metadata": {},
   "outputs": [
    {
     "name": "stdout",
     "output_type": "stream",
     "text": [
      "Ovo je string\n",
      "Ovo takođe\n"
     ]
    }
   ],
   "source": [
    "a = 'Ovo je string' \n",
    "b = \"Ovo takođe\"\n",
    "print(a)\n",
    "print (b)"
   ]
  },
  {
   "cell_type": "code",
   "execution_count": 56,
   "metadata": {},
   "outputs": [
    {
     "name": "stdout",
     "output_type": "stream",
     "text": [
      "ZdravoSvete\n",
      "Zdravo Svete\n"
     ]
    }
   ],
   "source": [
    "s1 = \"Zdravo\"\n",
    "s2 = \"Svete\"\n",
    "print(s1 + s2) \n",
    "print(s1 + \" \"+ s2) "
   ]
  },
  {
   "cell_type": "code",
   "execution_count": 57,
   "metadata": {},
   "outputs": [
    {
     "name": "stdout",
     "output_type": "stream",
     "text": [
      "a\n",
      "e\n",
      "i\n",
      "o\n",
      "u\n"
     ]
    }
   ],
   "source": [
    "niska = 'aeiou'\n",
    "\n",
    "for c in niska:\n",
    "    print(c)"
   ]
  },
  {
   "cell_type": "markdown",
   "metadata": {},
   "source": [
    "Napomena: Stringovi su nepromenljivi"
   ]
  },
  {
   "cell_type": "code",
   "execution_count": 58,
   "metadata": {},
   "outputs": [
    {
     "name": "stdout",
     "output_type": "stream",
     "text": [
      "Osnove programiranja\n"
     ]
    }
   ],
   "source": [
    "predmet = 'osnove programiranja'\n",
    "'''\n",
    "Ne radi \n",
    "predmet[0] = 'O'\n",
    "print(predmet)\n",
    "'''\n",
    "\n",
    "# Predloženo rešenje - formiranje nove reči na osnovu stare:\n",
    "predmet1 = 'O'+ predmet[1:]\n",
    "print(predmet1)"
   ]
  },
  {
   "cell_type": "markdown",
   "metadata": {},
   "source": [
    "## Torke (Tuples)"
   ]
  },
  {
   "cell_type": "code",
   "execution_count": 59,
   "metadata": {},
   "outputs": [
    {
     "name": "stdout",
     "output_type": "stream",
     "text": [
      "(1, 2, 3, 4)\n"
     ]
    }
   ],
   "source": [
    "# Torka je nepromenljiva lista - po formitranju ne može da se menja\n",
    "torka = (1, 2, 3, 4)\n",
    "print(torka)"
   ]
  },
  {
   "cell_type": "code",
   "execution_count": 60,
   "metadata": {},
   "outputs": [
    {
     "name": "stdout",
     "output_type": "stream",
     "text": [
      "9\n"
     ]
    }
   ],
   "source": [
    "torka = (7, 3, 9, 2)\n",
    "print(torka[2])"
   ]
  },
  {
   "cell_type": "code",
   "execution_count": 61,
   "metadata": {},
   "outputs": [
    {
     "name": "stdout",
     "output_type": "stream",
     "text": [
      "(1, 2, 3)\n",
      "('a', 'b', 'c', 'd', 'e')\n"
     ]
    }
   ],
   "source": [
    "# Konverziju nekog objekta u torku\n",
    "t1 = tuple([1,2,3])          \n",
    "t2 = tuple('abcde')       \n",
    "print (t1)\n",
    "print (t2)"
   ]
  },
  {
   "cell_type": "markdown",
   "metadata": {},
   "source": [
    "## Pseudoslučajni brojevi"
   ]
  },
  {
   "cell_type": "code",
   "execution_count": 62,
   "metadata": {},
   "outputs": [
    {
     "name": "stdout",
     "output_type": "stream",
     "text": [
      "0.9576900343695351\n"
     ]
    }
   ],
   "source": [
    "import random\n",
    "x = random.random()\n",
    "print(x)"
   ]
  },
  {
   "cell_type": "code",
   "execution_count": 63,
   "metadata": {},
   "outputs": [
    {
     "name": "stdout",
     "output_type": "stream",
     "text": [
      "2\n"
     ]
    }
   ],
   "source": [
    "import random\n",
    "x = random.randint(1,20)\n",
    "print(x)"
   ]
  },
  {
   "cell_type": "code",
   "execution_count": 64,
   "metadata": {},
   "outputs": [
    {
     "name": "stdout",
     "output_type": "stream",
     "text": [
      "6\n"
     ]
    }
   ],
   "source": [
    "import random\n",
    "x = random.randrange(0, 10) # [0, 10)\n",
    "print(x)"
   ]
  },
  {
   "cell_type": "code",
   "execution_count": 65,
   "metadata": {},
   "outputs": [
    {
     "name": "stdout",
     "output_type": "stream",
     "text": [
      "10000\n"
     ]
    }
   ],
   "source": [
    "lista = [10, 100, 1000, 10000]\n",
    "izabrani = random.choice(lista)\n",
    "print(izabrani)"
   ]
  },
  {
   "cell_type": "code",
   "execution_count": 66,
   "metadata": {},
   "outputs": [
    {
     "name": "stdout",
     "output_type": "stream",
     "text": [
      "[10000, 100, 1000]\n"
     ]
    }
   ],
   "source": [
    "lista = [10, 100, 1000, 10000]\n",
    "podskup = random.sample(lista, 3)\n",
    "print(podskup)"
   ]
  },
  {
   "cell_type": "markdown",
   "metadata": {},
   "source": [
    "## Skupovi (Sets)"
   ]
  },
  {
   "cell_type": "code",
   "execution_count": 67,
   "metadata": {},
   "outputs": [
    {
     "name": "stdout",
     "output_type": "stream",
     "text": [
      "{1, 2, 3, 4, 5}\n",
      "{1, 2, 3, 4}\n",
      "{'e', 's', 'j', 't', ' ', 'o', 'v'}\n"
     ]
    }
   ],
   "source": [
    "skup1 = {1,2,3,4,5} \n",
    "print (skup1)\n",
    "# Funkcija set se može koristiti i za konverziju objekata u skupove. \n",
    "\n",
    "skup2 = set([1, 2, 3, 4]) \n",
    "print(skup2)\n",
    "\n",
    "skup3 = set('ovo je test')\n",
    "print(skup3)"
   ]
  },
  {
   "cell_type": "markdown",
   "metadata": {},
   "source": [
    "### Primer\n",
    "Brisanje duplih elemenata iz liste\n",
    "Možemo iskoristiti činjenicu da skupovi ne mogu imati ponovljene elemente. \n",
    "\n"
   ]
  },
  {
   "cell_type": "code",
   "execution_count": 68,
   "metadata": {},
   "outputs": [
    {
     "name": "stdout",
     "output_type": "stream",
     "text": [
      "[1, 2, 3, 4, 5]\n"
     ]
    }
   ],
   "source": [
    "L = [1,4,4,4,5,1,2,1,3]     # lista sa ponavljanjem elemenata\n",
    "L = list(set(L)) # konvertujemo listu u skup, pa nazad u listu\n",
    "print(L)\n",
    "\n"
   ]
  },
  {
   "cell_type": "markdown",
   "metadata": {},
   "source": [
    "## Rečnici (Dictionary, Dict)"
   ]
  },
  {
   "cell_type": "code",
   "execution_count": 69,
   "metadata": {},
   "outputs": [
    {
     "name": "stdout",
     "output_type": "stream",
     "text": [
      "{'Januar': 31, 'Februar': 28, 'Mart': 31, 'April': 30, 'Maj': 31, 'Jun': 30, 'Jul': 31, 'Avgust': 31, 'Septembar': 30, 'Oktobar': 31, 'Novembar': 30, 'Decembar': 31}\n"
     ]
    }
   ],
   "source": [
    "dani={'Januar':31, 'Februar':28, 'Mart':31, 'April':30, \n",
    "      'Maj':31, 'Jun':30, 'Jul':31,'Avgust':31, 'Septembar':30, 'Oktobar':31, 'Novembar':30,'Decembar':31}\n",
    "\n",
    "\n",
    "print(dani)"
   ]
  },
  {
   "cell_type": "code",
   "execution_count": 70,
   "metadata": {},
   "outputs": [
    {
     "name": "stdout",
     "output_type": "stream",
     "text": [
      "30\n"
     ]
    }
   ],
   "source": [
    "dani={'Januar':31, 'Februar':28, 'Mart':31, 'April':30, \n",
    "      'Maj':31, 'Jun':30, 'Jul':31,'Avgust':31, 'Septembar':30, 'Oktobar':31, 'Novembar':30,'Decembar':31}\n",
    "\n",
    "\n",
    "print(dani['Jun'])\n"
   ]
  },
  {
   "cell_type": "code",
   "execution_count": 71,
   "metadata": {},
   "outputs": [
    {
     "name": "stdout",
     "output_type": "stream",
     "text": [
      "10\n"
     ]
    }
   ],
   "source": [
    "recnik = {}\n",
    "# ili\n",
    "recnik = dict([])\n",
    "\n",
    "# Dodavanje elemenata u recnik\n",
    "recnik['a'] = 10\n",
    "print(recnik['a'])"
   ]
  },
  {
   "cell_type": "code",
   "execution_count": 72,
   "metadata": {
    "scrolled": true
   },
   "outputs": [
    {
     "name": "stdout",
     "output_type": "stream",
     "text": [
      "{'A': 400, 'B': 200}\n",
      "{'A': 400, 'B': 200, 'C': 500}\n",
      "{'B': 200, 'C': 500}\n"
     ]
    }
   ],
   "source": [
    "d = {'A':100, 'B':200}\n",
    "d['A'] = 400 # Promena vrednosti\n",
    "print (d)\n",
    "\n",
    "d['C'] = 500 # Dodavanje novog elementa u rečnik\n",
    "print (d)\n",
    "\n",
    "del d['A'] # Brisanje elementa iz rečnika\n",
    "print (d)"
   ]
  },
  {
   "cell_type": "code",
   "execution_count": 73,
   "metadata": {},
   "outputs": [
    {
     "name": "stdout",
     "output_type": "stream",
     "text": [
      "['A', 'B']\n",
      "[100, 200]\n"
     ]
    },
    {
     "data": {
      "text/plain": [
       "[('A', 100), ('B', 200)]"
      ]
     },
     "execution_count": 73,
     "metadata": {},
     "output_type": "execute_result"
    }
   ],
   "source": [
    "d = {'A':100, 'B':200}\n",
    "# Kako od rečnika dobiti liste ključeva i vrednosti\n",
    "\n",
    "print (list(d))      \n",
    "print(list(d.values()))     \n",
    "list(d.items()) # parovi (ključ,vrednost)\n",
    "# Parovi koje vraća d.items() nazivaju se torke(tuples)"
   ]
  },
  {
   "cell_type": "code",
   "execution_count": 74,
   "metadata": {},
   "outputs": [
    {
     "name": "stdout",
     "output_type": "stream",
     "text": [
      "2.0\n",
      "3\n",
      "5\n"
     ]
    }
   ],
   "source": [
    "import math\n",
    "\n",
    "print(math.sqrt(4))\n",
    "print(math.ceil(2.3))\n",
    "print(math.floor(5.3))\n",
    "# ..."
   ]
  },
  {
   "cell_type": "markdown",
   "metadata": {},
   "source": [
    "## Datoteke\n",
    "Rukovanje datotekama je važan deo svake aplikacije. Python ima nekoliko funkcija za kreiranje, čitanje, ažuriranje i brisanje datoteka. Ključna funkcija za rad sa datotekama u Python-u je funkcija *open( )* .\n",
    "\n",
    "Funkcija *open( )* ima dva parametra naziv datoteke (sa apsolutnom ili relativnom putanjom) koja će se kreirati/čitati/menjati i režim korišćenja (engl. mode), način na koji će se datoteka koristiti .\n",
    "\n",
    "Postoje četiri različita načina (režima) za otvaranje datoteke:\n",
    "\n",
    ">\"r\"- Read - Podrazumevana vrednost. Otvara datoteku za čitanje. Ako datoteka ne postoji javiće grešku. \n",
    "\n",
    ">\"a\" - Append - Ako datoteka ne postoji, kreira novi datoteku. Novi podaci se upisuju na kraj datoteke, ako datoteka postoji. Nije dopušteno čitanje iz datoteke.\n",
    "Pokazivač za pisanje u datoteku nalazi se na kraju datoteke.\n",
    "\n",
    ">\"w\" - Write - Otvara datoteku za pisanje, kreira datoteku ako ne postoji. Ako datoteka postoji, briše se sadržaj postojeće datoteke.\n",
    "\n",
    ">\"x\" - Create - Kreira navedenu datoteku, vraća grešku ako datoteka postoji.\n",
    "\n",
    ">\"+\" - Ako se doda ovaj znak, omogućava se čitanje i pisanje iz datoteka.\n",
    "\n",
    "Pored toga, možete definisati sledeće parametre:\n",
    "\n",
    ">\"t\"- Tekst - Podrazumevana vrednost, režim teksta.\n",
    "\n",
    ">\"b\" - Binarno - Binarni režim (npr. slike)\n",
    "\n",
    "Prilikom poziva funkcije *open( )* parametar mode nije obavezan. Ako se ovaj parametar izostavi, podrazumevana vrednost je 'r'.\n",
    "\n",
    "apsolutna putanja – potpuna putanja od particije sve do datoteke\n",
    "\n",
    "relativna putanja – putanja koja nije potpuna, već se datotekama pristupa tako da se kao početni folder uzima foldre u kojem se nalazi skripta\n"
   ]
  },
  {
   "cell_type": "code",
   "execution_count": 75,
   "metadata": {},
   "outputs": [
    {
     "ename": "FileExistsError",
     "evalue": "[Errno 17] File exists: 'demodatoteka.txt'",
     "output_type": "error",
     "traceback": [
      "\u001b[0;31m---------------------------------------------------------------------------\u001b[0m",
      "\u001b[0;31mFileExistsError\u001b[0m                           Traceback (most recent call last)",
      "\u001b[0;32m<ipython-input-75-28ea778f9421>\u001b[0m in \u001b[0;36m<module>\u001b[0;34m\u001b[0m\n\u001b[0;32m----> 1\u001b[0;31m \u001b[0mf\u001b[0m\u001b[0;34m=\u001b[0m\u001b[0mopen\u001b[0m\u001b[0;34m(\u001b[0m\u001b[0;34m\"demodatoteka.txt\"\u001b[0m\u001b[0;34m,\u001b[0m\u001b[0;34m\"x\"\u001b[0m\u001b[0;34m)\u001b[0m\u001b[0;34m\u001b[0m\u001b[0;34m\u001b[0m\u001b[0m\n\u001b[0m",
      "\u001b[0;31mFileExistsError\u001b[0m: [Errno 17] File exists: 'demodatoteka.txt'"
     ]
    }
   ],
   "source": [
    "f=open(\"demodatoteka.txt\",\"x\")"
   ]
  },
  {
   "cell_type": "markdown",
   "metadata": {},
   "source": [
    "### Čitanje datoteke"
   ]
  },
  {
   "attachments": {
    "Screenshot%202021-11-07%20at%2022.25.50.png": {
     "image/png": "[encoded data removed]"
    }
   },
   "cell_type": "markdown",
   "metadata": {},
   "source": [
    "Da bismo otvorili datoteku, koristimo ugrađenu open( ).\n",
    "Funkcija open( ) vraća objekat fajl, koji ima read( ) metod za čitanje sadržaja datoteke.\n",
    "Kako bismo pročitali datoteku, potrebno je pozvati f.read(size) metodu. Ova metoda čita podatke iz datoteke i vraća ih kao niz znakova.\n",
    "Parametar size je opcioni argument. U slučaju da je parametar size izostavljen ili pak negativan, tada se čita cela datoteka. \n",
    "Pretpostavimo da imamo datoteku kao na slici\n",
    "![Screenshot%202021-11-07%20at%2022.25.50.png](attachment:Screenshot%202021-11-07%20at%2022.25.50.png)\n"
   ]
  },
  {
   "cell_type": "code",
   "execution_count": 76,
   "metadata": {},
   "outputs": [
    {
     "name": "stdout",
     "output_type": "stream",
     "text": [
      "Ovo je demo datoteka.\n",
      "Programiranje je lepo!\n"
     ]
    }
   ],
   "source": [
    "f = open(\"demodatoteka.txt\", \"r\")\n",
    "sadrzaj_datoteke = f.read()\n",
    "print(sadrzaj_datoteke)"
   ]
  },
  {
   "cell_type": "markdown",
   "metadata": {},
   "source": [
    "#### Napomena:\n",
    "Ako se datoteka nalazi na drugoj lokaciji, moraćete da navedete putanju datoteke."
   ]
  },
  {
   "cell_type": "code",
   "execution_count": 77,
   "metadata": {},
   "outputs": [
    {
     "name": "stdout",
     "output_type": "stream",
     "text": [
      "Greška! Tražena datoteka ne postoji.\n"
     ]
    }
   ],
   "source": [
    "try:\n",
    "    f = open(\"demofile.txt\", \"r\")\n",
    "    sadrzaj_datoteke = f.read()\n",
    "    print(sadrzaj_datoteke)\n",
    "except:\n",
    "    print(\"Greška! Tražena datoteka ne postoji.\")\n",
    "    "
   ]
  },
  {
   "cell_type": "code",
   "execution_count": 78,
   "metadata": {},
   "outputs": [
    {
     "name": "stdout",
     "output_type": "stream",
     "text": [
      "Ovo j\n"
     ]
    }
   ],
   "source": [
    "f = open(\"demodatoteka.txt\", \"r\")\n",
    "print(f.read(5))"
   ]
  },
  {
   "cell_type": "markdown",
   "metadata": {},
   "source": [
    "#### *readline( )* metod\n",
    "Možete vratiti jednu liniju koristeći *readline( )* metod:"
   ]
  },
  {
   "cell_type": "code",
   "execution_count": 79,
   "metadata": {},
   "outputs": [
    {
     "name": "stdout",
     "output_type": "stream",
     "text": [
      "Ovo je demo datoteka.\n",
      "\n"
     ]
    }
   ],
   "source": [
    "f = open(\"demodatoteka.txt\", \"r\")\n",
    "print(f.readline())"
   ]
  },
  {
   "cell_type": "code",
   "execution_count": 80,
   "metadata": {},
   "outputs": [
    {
     "name": "stdout",
     "output_type": "stream",
     "text": [
      "Ovo je demo datoteka.\n",
      "\n",
      "Programiranje je lepo!\n"
     ]
    }
   ],
   "source": [
    "# Prolazak kroz datoteku red po red\n",
    "f = open(\"demodatoteka.txt\", \"r\")\n",
    "for x in f:\n",
    "  print(x)"
   ]
  },
  {
   "cell_type": "markdown",
   "metadata": {},
   "source": [
    "## Zatvaranje datoteke\n",
    "Dobra praksa je da uvek zatvorite datoteku kada završite sa njom.\n"
   ]
  },
  {
   "cell_type": "code",
   "execution_count": 81,
   "metadata": {},
   "outputs": [
    {
     "name": "stdout",
     "output_type": "stream",
     "text": [
      "Ovo je demo datoteka.\n",
      "Programiranje je lepo!\n"
     ]
    }
   ],
   "source": [
    "f = open(\"demodatoteka.txt\", \"r\")\n",
    "print(f.read())\n",
    "f.close()"
   ]
  },
  {
   "cell_type": "markdown",
   "metadata": {},
   "source": [
    "## Pisanje u datoteku"
   ]
  },
  {
   "cell_type": "markdown",
   "metadata": {},
   "source": [
    "Da biste pisali u postojeću datoteku, morate dodati parametar funkciji *open( )* :\n",
    "\n",
    ">\"a\" - append - će se dodati podatke na kraj datoteke\n",
    "\n",
    ">\"w\" - write - će prepisati bilo koji postojeći sadržaj"
   ]
  },
  {
   "cell_type": "code",
   "execution_count": 82,
   "metadata": {},
   "outputs": [
    {
     "name": "stdout",
     "output_type": "stream",
     "text": [
      "Ovo je demo datoteka.\n",
      "Programiranje je lepo!Ovaj sadržaj smo naknadno dodali u datoteku.\n"
     ]
    }
   ],
   "source": [
    "# Primer 1 \n",
    "f = open(\"demodatoteka.txt\", \"a\")\n",
    "f.write(\"Ovaj sadržaj smo naknadno dodali u datoteku.\")\n",
    "f.close()\n",
    "\n",
    "# otvara i čita datoteku nakon dodavanja\n",
    "f = open(\"demodatoteka.txt\", \"r\")\n",
    "print(f.read())\n",
    "f.close()"
   ]
  },
  {
   "cell_type": "code",
   "execution_count": 83,
   "metadata": {},
   "outputs": [
    {
     "name": "stdout",
     "output_type": "stream",
     "text": [
      "Ovaj sadržaj će biti prepisan preko postojećeg u datoteci demodatoteka.txt!\n"
     ]
    }
   ],
   "source": [
    "# primer 2 Pisaće preko postojećeg sadržaja\n",
    "f = open(\"demodatoteka.txt\", \"w\")\n",
    "f.write(\"Ovaj sadržaj će biti prepisan preko postojećeg u datoteci demodatoteka.txt!\")\n",
    "f.close()\n",
    "\n",
    "# otvara i čita datoteku nakon dodavanja\n",
    "f = open(\"demodatoteka.txt\", \"r\")\n",
    "print(f.read())"
   ]
  },
  {
   "cell_type": "markdown",
   "metadata": {},
   "source": [
    "## Kreiranje nove datoteke\n",
    "Da biste kreirali novu datoteku u Python-u, koristite *open( )* metod, sa jednim od sledećih parametara:\n",
    "\n",
    "\"x\" - create - kreiraće datoteku, vraća grešku ako datoteka postoji\n",
    "\n",
    "\"a\" - append - kreiraće datoteku ako navedena datoteka ne postoji\n",
    "\n",
    "\"w\" - write - kreiraće datoteku ako navedena datoteka ne postoji"
   ]
  },
  {
   "cell_type": "code",
   "execution_count": 84,
   "metadata": {
    "scrolled": true
   },
   "outputs": [],
   "source": [
    "# Kreira novu praznu datoteku\n",
    "f=open(\"nova_datoteka.txt\",\"x\") "
   ]
  },
  {
   "cell_type": "code",
   "execution_count": 85,
   "metadata": {},
   "outputs": [],
   "source": [
    "# Kreira novu datoteku ako ne postoji\n",
    "f = open(\"myfile.txt\", \"w\")"
   ]
  },
  {
   "cell_type": "markdown",
   "metadata": {},
   "source": [
    "## Brisanje datoteke\n",
    "Da biste izbrisali datoteku, morate uvesti OS modul i pokrenuti njegovu *os.remove( )* funkciju:"
   ]
  },
  {
   "cell_type": "code",
   "execution_count": 86,
   "metadata": {},
   "outputs": [],
   "source": [
    "import os\n",
    "os.remove(\"myfile.txt\")"
   ]
  },
  {
   "cell_type": "code",
   "execution_count": 87,
   "metadata": {
    "scrolled": true
   },
   "outputs": [
    {
     "name": "stdout",
     "output_type": "stream",
     "text": [
      "Tražena datoteka ne postoji.\n"
     ]
    }
   ],
   "source": [
    "# Da biste izbegli grešku,\n",
    "# proverite da li datoteka postoji pre nego što pokušate da je izbrišete.\n",
    "\n",
    "import os\n",
    "if os.path.exists(\"demofile.txt\"):\n",
    "  os.remove(\"demofile.txt\")\n",
    "else:\n",
    "  print(\"Tražena datoteka ne postoji.\")"
   ]
  }
 ],
 "metadata": {
  "kernelspec": {
   "display_name": "Python 3",
   "language": "python",
   "name": "python3"
  },
  "language_info": {
   "codemirror_mode": {
    "name": "ipython",
    "version": 3
   },
   "file_extension": ".py",
   "mimetype": "text/x-python",
   "name": "python",
   "nbconvert_exporter": "python",
   "pygments_lexer": "ipython3",
   "version": "3.8.3"
  }
 },
 "nbformat": 4,
 "nbformat_minor": 4
}
