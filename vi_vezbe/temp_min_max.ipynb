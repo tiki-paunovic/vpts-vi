{
 "cells": [
  {
   "cell_type": "code",
   "execution_count": null,
   "metadata": {},
   "outputs": [],
   "source": [
    "# Temperature Banja Luka\n",
    "meseci = [\"Jan\", \"Feb\", \"Mar\", \"Apr\", \"Maj\", \"Jun\", \"Jul\", \"Avg\", \"Sep\", \"Okt\", \"Nov\", \"Dec\"]\n",
    "temp_max = [21.1, 22.8, 29.6, 29.2, 35.4, 35.2,39.7,39.5,37.0,30.0,26.4,23.5]\n",
    "temp_min = [-26.4,-20.8,16.6,-3.4,-1.4,0.9,5.3,5.0,-1.4,-5.8,-19.7,-20.4]\n",
    "\n"
   ]
  },
  {
   "cell_type": "code",
   "execution_count": null,
   "metadata": {},
   "outputs": [],
   "source": [
    "# Temperature Jahorina\n",
    "meseci = [\"Jan\", \"Feb\", \"Mar\", \"Apr\", \"Maj\", \"Jun\", \"Jul\", \"Avg\", \"Sep\", \"Okt\", \"Nov\", \"Dec\"]\n",
    "temp_max = [ 14.0,  19.4,  21.9,  24.3,  28.8,  31.5,  33.5,  32.8,  29.7,  26.5,  20.2,  18.0]\n",
    "temp_min = [-35.6, -31.0, -25.0,  -8.3,  -6.4,  -3.7,  -0.4,  -1.3,  -9.3, -10.7, -26.2, -29.6]\n",
    "\n"
   ]
  }
 ],
 "metadata": {
  "kernelspec": {
   "display_name": "Python 3",
   "language": "python",
   "name": "python3"
  },
  "language_info": {
   "codemirror_mode": {
    "name": "ipython",
    "version": 3
   },
   "file_extension": ".py",
   "mimetype": "text/x-python",
   "name": "python",
   "nbconvert_exporter": "python",
   "pygments_lexer": "ipython3",
   "version": "3.8.3"
  }
 },
 "nbformat": 4,
 "nbformat_minor": 4
}
